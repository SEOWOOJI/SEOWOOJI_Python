{
  "nbformat": 4,
  "nbformat_minor": 0,
  "metadata": {
    "colab": {
      "provenance": [],
      "name": "2025_01_26_함수.ipynb",
      "authorship_tag": "ABX9TyOP3OvWHKoEU1PqYWZFZ+xi",
      "include_colab_link": true
    },
    "kernelspec": {
      "name": "python3",
      "display_name": "Python 3"
    },
    "language_info": {
      "name": "python"
    }
  },
  "cells": [
    {
      "cell_type": "markdown",
      "metadata": {
        "id": "view-in-github",
        "colab_type": "text"
      },
      "source": [
        "<a href=\"https://colab.research.google.com/github/SEOWOOJI/SEOWOOJI_Python/blob/main/2025_01_26_%ED%95%A8%EC%88%98.ipynb\" target=\"_parent\"><img src=\"https://colab.research.google.com/assets/colab-badge.svg\" alt=\"Open In Colab\"/></a>"
      ]
    },
    {
      "cell_type": "markdown",
      "source": [
        "# 파이썬의 함수\n",
        "\n",
        ">> 프로그래밍에서 변수는 값에 대한 이름, 함수는 코드에 대한 이름으로 볼 수 있습니다."
      ],
      "metadata": {
        "id": "CvS5W5ptWiaY"
      }
    },
    {
      "cell_type": "code",
      "execution_count": null,
      "metadata": {
        "id": "me1y-uF2T848"
      },
      "outputs": [],
      "source": [
        "def Function1():\n",
        "  print(\"Function1 is called\")"
      ]
    },
    {
      "cell_type": "code",
      "source": [
        "print(id(Function1))\n",
        "# id(함수명)을 통해 해당 함수 프로그램에서 저장되어 할당된 주소를 확인할 수 있습니다."
      ],
      "metadata": {
        "colab": {
          "base_uri": "https://localhost:8080/"
        },
        "id": "8iwOX-XoXPhg",
        "outputId": "aa42635b-244d-4bfb-8cc1-725ff559fff1"
      },
      "execution_count": null,
      "outputs": [
        {
          "output_type": "stream",
          "name": "stdout",
          "text": [
            "138666196548032\n"
          ]
        }
      ]
    },
    {
      "cell_type": "markdown",
      "source": [
        "# 함수 이름은 함수 객체에 대란 바인딩을 합니다. 따라서 함수의 이름을 통해 함수를 호출할 수 있게 됩니다."
      ],
      "metadata": {
        "id": "JrIpHNeaXTBQ"
      }
    },
    {
      "cell_type": "code",
      "source": [
        "# 호출 방법\n",
        "# 함수명()\n",
        "Function1()"
      ],
      "metadata": {
        "colab": {
          "base_uri": "https://localhost:8080/"
        },
        "id": "KnmMJHLRXdlv",
        "outputId": "e7968117-e3ed-4813-c3c9-ad183259d4ef"
      },
      "execution_count": null,
      "outputs": [
        {
          "output_type": "stream",
          "name": "stdout",
          "text": [
            "Function1 is called\n"
          ]
        }
      ]
    },
    {
      "cell_type": "markdown",
      "source": [
        "# 사용자가 만들 수있는 일반적인 형태의 함수\n",
        "\n",
        "* return이 있는 함수\n",
        "  >> 값 전달\n",
        "* return이 없는 함수\n",
        "  >> 기능 사용"
      ],
      "metadata": {
        "id": "Fjp9cHgLXr5Q"
      }
    },
    {
      "cell_type": "code",
      "source": [
        "def Function2(x,y):\n",
        "  return x + y"
      ],
      "metadata": {
        "id": "A-QVpUszX6tn"
      },
      "execution_count": null,
      "outputs": []
    },
    {
      "cell_type": "code",
      "source": [
        "def Function3(x,y):\n",
        "  print(x + y)"
      ],
      "metadata": {
        "id": "w5E7wyRDYBjX"
      },
      "execution_count": null,
      "outputs": []
    },
    {
      "cell_type": "code",
      "source": [
        "print(Function2(10,5))\n",
        "#return에 의해 10 + 5인 15의 값이 호출한 위치에 전달됩니다.\n",
        "#print(15)가 되므로 값이 15가 출력됩니다.\n",
        "\n",
        "print(Function3(10,5))\n",
        "#Function3(10,5) 내부의 print문에 의해 10 + 5에 대한 출력 결과가 출력되고\n",
        "#return하지 않았기 때문에 전달된 값이 없음, 이 경우 None으로 처리됨\n",
        "# 따라서 print(None)가 진행됨"
      ],
      "metadata": {
        "colab": {
          "base_uri": "https://localhost:8080/"
        },
        "id": "sYz_DT1HYGy3",
        "outputId": "7f71fc22-e46e-4cd5-a47b-f268257f24e4"
      },
      "execution_count": null,
      "outputs": [
        {
          "output_type": "stream",
          "name": "stdout",
          "text": [
            "15\n",
            "15\n",
            "None\n"
          ]
        }
      ]
    },
    {
      "cell_type": "markdown",
      "source": [
        "# 가변인자\n",
        ">> 파이썬에서 함수를 정의할 때, 인자 값의 개수를 가변적으로 정의해야할 경우 사용합니다.\n",
        "\n",
        "    e.g.) so(1,2), so(1,2,3), so(1,2,3,4)이런 식으로 쓰고 싶은 경우"
      ],
      "metadata": {
        "id": "aBFtQg5BZBzA"
      }
    },
    {
      "cell_type": "code",
      "source": [
        "# parameter 자리에 *을 붙여준다.\n",
        "def so(*args):\n",
        "  print(args)"
      ],
      "metadata": {
        "id": "ZXLGZ3CVZXqv"
      },
      "execution_count": null,
      "outputs": []
    },
    {
      "cell_type": "code",
      "source": [
        "so(1,2)\n",
        "so(1,2,3)\n",
        "so(1,2,3,4)\n",
        "# 튜플 표현시 1,2,3으로 적으면 (1,2,3) 형태가 된다.\n",
        "# 따라서 이건 튜플이다."
      ],
      "metadata": {
        "colab": {
          "base_uri": "https://localhost:8080/"
        },
        "id": "-1OZ5dGIZhkP",
        "outputId": "9af7bd59-3505-4fbd-b61e-f163fd2cba34"
      },
      "execution_count": null,
      "outputs": [
        {
          "output_type": "stream",
          "name": "stdout",
          "text": [
            "(1, 2)\n",
            "(1, 2, 3)\n",
            "(1, 2, 3, 4)\n"
          ]
        }
      ]
    },
    {
      "cell_type": "code",
      "source": [
        "def sum(*args):\n",
        "  result = 0\n",
        "  for i in args:\n",
        "    result += i\n",
        "  return result"
      ],
      "metadata": {
        "id": "FSW-A_uwaDUX"
      },
      "execution_count": null,
      "outputs": []
    },
    {
      "cell_type": "code",
      "source": [
        "print(sum(1,2,3,4,5))\n",
        "print(sum(1,2,3,4))"
      ],
      "metadata": {
        "colab": {
          "base_uri": "https://localhost:8080/"
        },
        "id": "dgcqQ0HbaRlX",
        "outputId": "6baec5bf-db45-4445-bda3-bd88c3fab547"
      },
      "execution_count": null,
      "outputs": [
        {
          "output_type": "stream",
          "name": "stdout",
          "text": [
            "15\n",
            "10\n"
          ]
        }
      ]
    },
    {
      "cell_type": "markdown",
      "source": [
        "# 가변 인자(키워드)\n",
        ">> 키워드 = 값의 형태를 전달할 수 있습니다.  \n",
        ">>(dict) 매개변수 앞에 *이 2개 붙습니다.\n",
        "\n",
        ">>e.g.) so2(**kwargs)"
      ],
      "metadata": {
        "id": "f6_8pS7TbiKn"
      }
    },
    {
      "cell_type": "code",
      "source": [
        "def so2(**kwargs):\n",
        "  print(kwargs)"
      ],
      "metadata": {
        "id": "sz4U-qF2bewn"
      },
      "execution_count": null,
      "outputs": []
    },
    {
      "cell_type": "code",
      "source": [
        "so2(a = 1, b = 2, c = \"JK\")"
      ],
      "metadata": {
        "colab": {
          "base_uri": "https://localhost:8080/"
        },
        "id": "1fHLMw3kcIHX",
        "outputId": "dae80c99-8fb5-43d3-e86b-0360d77f695a"
      },
      "execution_count": null,
      "outputs": [
        {
          "output_type": "stream",
          "name": "stdout",
          "text": [
            "{'a': 1, 'b': 2, 'c': 'JK'}\n"
          ]
        }
      ]
    },
    {
      "cell_type": "code",
      "source": [
        "def info(**kwargs):\n",
        "  for k, v in kwargs.items():\n",
        "    print(k,v)"
      ],
      "metadata": {
        "id": "KWfyftLicMxH"
      },
      "execution_count": null,
      "outputs": []
    },
    {
      "cell_type": "code",
      "source": [
        "info(이름 = \"뿌요\", 나이 = 5)"
      ],
      "metadata": {
        "colab": {
          "base_uri": "https://localhost:8080/"
        },
        "id": "EqJisrdccV7n",
        "outputId": "238a3945-f7a6-4046-8e08-a53057c0931f"
      },
      "execution_count": null,
      "outputs": [
        {
          "output_type": "stream",
          "name": "stdout",
          "text": [
            "이름 뿌요\n",
            "나이 5\n"
          ]
        }
      ]
    },
    {
      "cell_type": "code",
      "source": [
        "kor, eng, mat = map(int, input(\"점수를 입력하세요 : \").split())\n",
        "\n",
        "# map(function, iterable)\n",
        "# function : 각 요소에 적용할 함수를 의미합니다. 여기서는 각각의 값에 int()적용\n",
        "# interable : 데이터 묶음\n",
        "\n",
        "# >> kor, eng, mat를 대상으로 각각 입력한 값을 split()에 의해 띄어쓰기 기준으로 분리하고\n",
        "# int()로 정수형 데이터로 변경합니다.\n",
        "\n",
        "# >> 국, 영, 수를 띄어쓰기 기준으로 숫자 순서대로 입력하면 알아서 나워지는 기능\n",
        "\n",
        "#입력값은 100, 81, 79 순으로 입력\n",
        "\n",
        "max = getMax(kor, eng, mat)\n",
        "print(\"높은 점수 : \", max) #100\n",
        "\n",
        "max = getMax(eng, mat)\n",
        "print(\"높은 점수 : \", max) #81\n",
        "\n",
        "#위의 계산 결과라 처리될 수 있게 함수 getMax를 설계하세요.\n"
      ],
      "metadata": {
        "colab": {
          "base_uri": "https://localhost:8080/",
          "height": 236
        },
        "id": "Wx0w9LNYcz13",
        "outputId": "7f315b7c-6e99-469a-9490-718519d05393"
      },
      "execution_count": null,
      "outputs": [
        {
          "name": "stdout",
          "output_type": "stream",
          "text": [
            "점수를 입력하세요 : 100 81 79\n"
          ]
        },
        {
          "output_type": "error",
          "ename": "NameError",
          "evalue": "name 'getMax' is not defined",
          "traceback": [
            "\u001b[0;31m---------------------------------------------------------------------------\u001b[0m",
            "\u001b[0;31mNameError\u001b[0m                                 Traceback (most recent call last)",
            "\u001b[0;32m<ipython-input-16-3d59e14f2612>\u001b[0m in \u001b[0;36m<cell line: 0>\u001b[0;34m()\u001b[0m\n\u001b[1;32m     12\u001b[0m \u001b[0;31m#입력값은 100, 81, 79 순으로 입력\u001b[0m\u001b[0;34m\u001b[0m\u001b[0;34m\u001b[0m\u001b[0m\n\u001b[1;32m     13\u001b[0m \u001b[0;34m\u001b[0m\u001b[0m\n\u001b[0;32m---> 14\u001b[0;31m \u001b[0mmax\u001b[0m \u001b[0;34m=\u001b[0m \u001b[0mgetMax\u001b[0m\u001b[0;34m(\u001b[0m\u001b[0mkor\u001b[0m\u001b[0;34m,\u001b[0m \u001b[0meng\u001b[0m\u001b[0;34m,\u001b[0m \u001b[0mmat\u001b[0m\u001b[0;34m)\u001b[0m\u001b[0;34m\u001b[0m\u001b[0;34m\u001b[0m\u001b[0m\n\u001b[0m\u001b[1;32m     15\u001b[0m \u001b[0mprint\u001b[0m\u001b[0;34m(\u001b[0m\u001b[0;34m\"높은 점수 : \"\u001b[0m\u001b[0;34m,\u001b[0m \u001b[0mmax\u001b[0m\u001b[0;34m)\u001b[0m \u001b[0;31m#100\u001b[0m\u001b[0;34m\u001b[0m\u001b[0;34m\u001b[0m\u001b[0m\n\u001b[1;32m     16\u001b[0m \u001b[0;34m\u001b[0m\u001b[0m\n",
            "\u001b[0;31mNameError\u001b[0m: name 'getMax' is not defined"
          ]
        }
      ]
    },
    {
      "cell_type": "code",
      "source": [
        "kor, eng, mat = map(int, input(\"점수를 입력하세요 : \").split())\n",
        "def getMax(*args):\n",
        "  args = list(args)\n",
        "  args.sort()\n",
        "  return args[-1]\n",
        "\n",
        "max = getMax(kor, eng, mat)\n",
        "print(\"높은 점수 :\", max)"
      ],
      "metadata": {
        "colab": {
          "base_uri": "https://localhost:8080/"
        },
        "id": "txahXFuxDVTs",
        "outputId": "a9d2a1bb-bdf1-479c-8954-88d2295e2e3e"
      },
      "execution_count": null,
      "outputs": [
        {
          "output_type": "stream",
          "name": "stdout",
          "text": [
            "점수를 입력하세요 : 100 81 79\n",
            "높은 점수 : 100\n"
          ]
        }
      ]
    },
    {
      "cell_type": "markdown",
      "source": [
        "# 재귀 함수\n",
        "\n",
        "1. 자기 자신을 호출하는 형태를 의미합니다.\n",
        "2. 같은 형태의 더 작은 문제(부분 문제)를 풀고 부분 문제의 답을 이용해 기존의 문제를 풀어내는 형태를 의미합니다.\n",
        "\n",
        "    **재귀 함수의 설계 형태**\n",
        "        1. base case (해당 함수를 종료시킬 조건)\n",
        "        2. recursive case (반복을 진행해야 할 조건 설계)\n",
        "\n",
        "# 재귀함수의 장점\n",
        "1. 특정 로직 구현에 있어서 반복문보다 더 깔끔하거나 쉽게 설계됨.\n",
        "2. 변수를 여러개 만들 필요가 없어집니다.\n",
        "\n",
        "# 재귀함수의 단점\n",
        "1. 함수를 호출하는 과정에서 지역변수, 매개변수, 반환값을 모두 함수 임시 저장 구역(스택)에 지속적으로 저장해야 합니다.\n",
        "함수는 호출이 종료되면 함수에서 사용했던 지역변수, 매개변수 등에 스택에서 제거되어야 하나 지속적인 호출로 인해 제거되지 못하고 누적되어 더 많은 메모리를 사용하고, 속도 저하로 이어집니다.\n",
        "2. 위의 저 현상이 지속될 경우 더이상 담아둘 공간이 없어 스택 오버 플로우 현상이 발생할 수가 있습니다."
      ],
      "metadata": {
        "id": "uE4ELH6F1enX"
      }
    },
    {
      "cell_type": "code",
      "source": [
        "def countdown(n):\n",
        "  if n > 0:\n",
        "    print(f\"countdown({n})이 호출되었습니다.\")\n",
        "    countdown(n-1)"
      ],
      "metadata": {
        "id": "x7YrHNRU3WBn"
      },
      "execution_count": null,
      "outputs": []
    },
    {
      "cell_type": "code",
      "source": [
        "countdown(10)"
      ],
      "metadata": {
        "colab": {
          "base_uri": "https://localhost:8080/"
        },
        "id": "TKqTdyP830o3",
        "outputId": "f30cce4b-a96b-402c-9659-bc0202212e66"
      },
      "execution_count": null,
      "outputs": [
        {
          "output_type": "stream",
          "name": "stdout",
          "text": [
            "countdown(10)이 호출되었습니다.\n",
            "countdown(9)이 호출되었습니다.\n",
            "countdown(8)이 호출되었습니다.\n",
            "countdown(7)이 호출되었습니다.\n",
            "countdown(6)이 호출되었습니다.\n",
            "countdown(5)이 호출되었습니다.\n",
            "countdown(4)이 호출되었습니다.\n",
            "countdown(3)이 호출되었습니다.\n",
            "countdown(2)이 호출되었습니다.\n",
            "countdown(1)이 호출되었습니다.\n"
          ]
        }
      ]
    },
    {
      "cell_type": "markdown",
      "source": [
        "**처리 과정**  \n",
        "countdown(10) 호출  \n",
        "조건식 만족(10 > 0), print문 실행  \n",
        "  countdown(9) 호출  \n",
        "  조건식 만족(9 > 0), print문 실행  \n",
        "    countdown(8) 호출  \n",
        "    조건식 만족(8 > 0), print문 실행  \n",
        "    ....  \n",
        "    countdown(0) 호출  \n",
        "    조건식 불만족(0 > 0), 작업 종료\n",
        "\n"
      ],
      "metadata": {
        "id": "HDZrmPhL4PFX"
      }
    },
    {
      "cell_type": "code",
      "source": [
        "# factorial(n)\n",
        "def factorial(n : int) -> int:\n",
        "  if n == 1:\n",
        "    return 1\n",
        "  return n * factorial(n-1)\n",
        "\n",
        "# 함수 작성 시\n",
        "# def 함수명 : 타입) -> 타입으로 넣어줄 값의 데이터 형태를 표현할 수 있습니다.\n",
        "# (적으면 해당 타입이 아닌 경우라면 None으로 처리합니다.)"
      ],
      "metadata": {
        "id": "IXFB8lXE5Abv"
      },
      "execution_count": null,
      "outputs": []
    },
    {
      "cell_type": "code",
      "source": [
        "print(factorial(5))"
      ],
      "metadata": {
        "colab": {
          "base_uri": "https://localhost:8080/"
        },
        "id": "8wLqVu5a7jih",
        "outputId": "21624e35-1daa-4b1d-ea60-b6eeffae43bc"
      },
      "execution_count": null,
      "outputs": [
        {
          "output_type": "stream",
          "name": "stdout",
          "text": [
            "120\n"
          ]
        }
      ]
    },
    {
      "cell_type": "code",
      "source": [
        "# 재귀 함수를 이용해 10진수를 2진수로 변환하는 함수 printbinary를 구현하세요."
      ],
      "metadata": {
        "id": "q-J5Qo4i7pif"
      },
      "execution_count": null,
      "outputs": []
    },
    {
      "cell_type": "markdown",
      "source": [
        "2진수 계산 방법\n",
        ">> 10진수를 2의 제곱수로 분해해서 표현합니다.\n",
        "제곱 수에 포함되지 않은 범위면 0으로 제곱수에 해당하는 값응ㄹ 가졌으면 1로 순서대로 작성합니다.\n",
        "\n",
        "    e.g.) 숫자 15를 2진수로 변경\n",
        "          2의 0제곱 => 1\n",
        "          2의 1제곱 => 2\n",
        "          2의 2제곱 => 4\n",
        "          2의 3제곱 => 8\n",
        "          2의 4제곱 => 16\n",
        "          숫자 15는 4제곱보다 아래에 있는 단계의 제곱수로 표현이 가능합니다.\n",
        "          15 - 8 = 7\n",
        "          7 - 4 = 3\n",
        "          3 - 2 = 1\n",
        "          1 - 1 = 0\n",
        "\n",
        "          1111"
      ],
      "metadata": {
        "id": "vCoxl38H8_tI"
      }
    },
    {
      "cell_type": "code",
      "source": [
        "def printbinary(n):\n",
        "  if n < 2:\n",
        "    print(n, end = '')\n",
        "  else:\n",
        "    printbinary(n // 2)\n",
        "    print(n % 2, end = '')"
      ],
      "metadata": {
        "id": "1F8xnz5R-P-p"
      },
      "execution_count": null,
      "outputs": []
    },
    {
      "cell_type": "code",
      "source": [
        "printbinary(15) #1111"
      ],
      "metadata": {
        "colab": {
          "base_uri": "https://localhost:8080/"
        },
        "id": "lSVo_dnE7yww",
        "outputId": "7393e1a6-fcba-40ae-aa8b-861679076699"
      },
      "execution_count": null,
      "outputs": [
        {
          "output_type": "stream",
          "name": "stdout",
          "text": [
            "1111"
          ]
        }
      ]
    },
    {
      "cell_type": "code",
      "source": [],
      "metadata": {
        "id": "9xbXZ_SX_oWg"
      },
      "execution_count": null,
      "outputs": []
    },
    {
      "cell_type": "code",
      "source": [
        "# x의 n제곱을 return하는 함수 xsquare를 구현하세요.\n",
        "\n",
        "def xsquare(x, n):\n",
        "  if n == 0:\n",
        "    return 1 # 모든 숫자의 0 제곱은 1이 나오게 됩니다.\n",
        "  return x * xsquare(x, n-1)"
      ],
      "metadata": {
        "id": "sg2qqtje_ILY"
      },
      "execution_count": null,
      "outputs": []
    },
    {
      "cell_type": "code",
      "source": [
        "print(xsquare(2,10))"
      ],
      "metadata": {
        "colab": {
          "base_uri": "https://localhost:8080/"
        },
        "id": "mtnUTicLAGMp",
        "outputId": "d397690f-442d-4120-f352-3c54a012fda3"
      },
      "execution_count": null,
      "outputs": [
        {
          "output_type": "stream",
          "name": "stdout",
          "text": [
            "1024\n"
          ]
        }
      ]
    },
    {
      "cell_type": "markdown",
      "source": [
        "# 하노이의 탑을 재귀함수로 구현해보기\n",
        "\n",
        "# 해당 게임은 다음과 같은 조건을 만족해 한 기둥에 꽂힌 원판들을 그 순서 그대로 다른 기둥으로 옭겨서 다시 쌓는 게임입니다."
      ],
      "metadata": {
        "id": "oB3RL4QDD_Wa"
      }
    },
    {
      "cell_type": "code",
      "source": [
        "# n : 원반의 개수\n",
        "# start : 옮기는 원반이 있는 출발점 구간\n",
        "# end : 원반을 옮길 도착 지점 구간\n",
        "# mid : 옮기는 과정에서 사용될 보조 구간\n",
        "\n",
        "def towerHanoi(n, start, end, mid):\n",
        "  # 이 반복 작업의 종료 조건은 원반의 개수가 1인 상황\n",
        "  if n == 1:\n",
        "    print(f\"{start} -> {end}\")\n",
        "    return\n",
        "  towerHanoi(n-1, start, mid, end) # 원반 1개를 이용해 mid 지점으로 이동합니다.\n",
        "  print(f\"{start} -> {end}\") # 옮긴 상황을 출력합니다.\n",
        "  towerHanoi(n-1, mid, end, start) # mid 영역에 있었던 원반을 목적지(end)로 이동합니다.\n",
        "\n",
        "# 해당 함수에서는 옮기는 과정과 마무리 과정을 출력하게 됩니다."
      ],
      "metadata": {
        "id": "jGdwxq7NDF4S"
      },
      "execution_count": null,
      "outputs": []
    },
    {
      "cell_type": "code",
      "source": [
        "# 타워와 원반 개수를 전달해 테스트를 진행합니다.\n",
        "n = 4\n",
        "print(f\"MIn : {(1 << n)-1}\") # 1 << 2는 비트 1을 2단계 밀어내는 것을 의미합니다.\n",
        "# 컴퓨터는 2진수 단위로 처리되기에 1을 2단계 밀어내면\n",
        "# 숫자 1을 2진수로 표현 0000000001\n",
        "# 쉬프트 연산           0000000010\n",
        "#                       0000000100\n",
        "towerHanoi(4, \"Tower 1\", \"Tower 2\", \"Tower 3\")"
      ],
      "metadata": {
        "colab": {
          "base_uri": "https://localhost:8080/"
        },
        "id": "MRzK7ZpOHGs7",
        "outputId": "196ab717-dcfc-4012-f140-5c3989351d37"
      },
      "execution_count": null,
      "outputs": [
        {
          "output_type": "stream",
          "name": "stdout",
          "text": [
            "MIn : 15\n",
            "Tower 1 -> Tower 3\n",
            "Tower 1 -> Tower 2\n",
            "Tower 3 -> Tower 2\n",
            "Tower 1 -> Tower 3\n",
            "Tower 2 -> Tower 1\n",
            "Tower 2 -> Tower 3\n",
            "Tower 1 -> Tower 3\n",
            "Tower 1 -> Tower 2\n",
            "Tower 3 -> Tower 2\n",
            "Tower 3 -> Tower 1\n",
            "Tower 2 -> Tower 1\n",
            "Tower 3 -> Tower 2\n",
            "Tower 1 -> Tower 3\n",
            "Tower 1 -> Tower 2\n",
            "Tower 3 -> Tower 2\n"
          ]
        }
      ]
    }
  ]
}