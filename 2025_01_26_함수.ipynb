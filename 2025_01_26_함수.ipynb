{
  "nbformat": 4,
  "nbformat_minor": 0,
  "metadata": {
    "colab": {
      "provenance": [],
      "name": "2025_01_26_함수.ipynb",
      "authorship_tag": "ABX9TyNG5qZcMWMM/gOUad5aEZxG",
      "include_colab_link": true
    },
    "kernelspec": {
      "name": "python3",
      "display_name": "Python 3"
    },
    "language_info": {
      "name": "python"
    }
  },
  "cells": [
    {
      "cell_type": "markdown",
      "metadata": {
        "id": "view-in-github",
        "colab_type": "text"
      },
      "source": [
        "<a href=\"https://colab.research.google.com/github/SEOWOOJI/SEOWOOJI_Python/blob/main/2025_01_26_%ED%95%A8%EC%88%98.ipynb\" target=\"_parent\"><img src=\"https://colab.research.google.com/assets/colab-badge.svg\" alt=\"Open In Colab\"/></a>"
      ]
    },
    {
      "cell_type": "markdown",
      "source": [
        "# 파이썬의 함수\n",
        "\n",
        ">> 프로그래밍에서 변수는 값에 대한 이름, 함수는 코드에 대한 이름으로 볼 수 있습니다."
      ],
      "metadata": {
        "id": "CvS5W5ptWiaY"
      }
    },
    {
      "cell_type": "code",
      "execution_count": null,
      "metadata": {
        "id": "me1y-uF2T848"
      },
      "outputs": [],
      "source": [
        "def Function1():\n",
        "  print(\"Function1 is called\")"
      ]
    },
    {
      "cell_type": "code",
      "source": [
        "print(id(Function1))\n",
        "# id(함수명)을 통해 해당 함수 프로그램에서 저장되어 할당된 주소를 확인할 수 있습니다."
      ],
      "metadata": {
        "colab": {
          "base_uri": "https://localhost:8080/"
        },
        "id": "8iwOX-XoXPhg",
        "outputId": "aa42635b-244d-4bfb-8cc1-725ff559fff1"
      },
      "execution_count": null,
      "outputs": [
        {
          "output_type": "stream",
          "name": "stdout",
          "text": [
            "138666196548032\n"
          ]
        }
      ]
    },
    {
      "cell_type": "markdown",
      "source": [
        "# 함수 이름은 함수 객체에 대란 바인딩을 합니다. 따라서 함수의 이름을 통해 함수를 호출할 수 있게 됩니다."
      ],
      "metadata": {
        "id": "JrIpHNeaXTBQ"
      }
    },
    {
      "cell_type": "code",
      "source": [
        "# 호출 방법\n",
        "# 함수명()\n",
        "Function1()"
      ],
      "metadata": {
        "colab": {
          "base_uri": "https://localhost:8080/"
        },
        "id": "KnmMJHLRXdlv",
        "outputId": "e7968117-e3ed-4813-c3c9-ad183259d4ef"
      },
      "execution_count": null,
      "outputs": [
        {
          "output_type": "stream",
          "name": "stdout",
          "text": [
            "Function1 is called\n"
          ]
        }
      ]
    },
    {
      "cell_type": "markdown",
      "source": [
        "# 사용자가 만들 수있는 일반적인 형태의 함수\n",
        "\n",
        "* return이 있는 함수\n",
        "  >> 값 전달\n",
        "* return이 없는 함수\n",
        "  >> 기능 사용"
      ],
      "metadata": {
        "id": "Fjp9cHgLXr5Q"
      }
    },
    {
      "cell_type": "code",
      "source": [
        "def Function2(x,y):\n",
        "  return x + y"
      ],
      "metadata": {
        "id": "A-QVpUszX6tn"
      },
      "execution_count": null,
      "outputs": []
    },
    {
      "cell_type": "code",
      "source": [
        "def Function3(x,y):\n",
        "  print(x + y)"
      ],
      "metadata": {
        "id": "w5E7wyRDYBjX"
      },
      "execution_count": null,
      "outputs": []
    },
    {
      "cell_type": "code",
      "source": [
        "print(Function2(10,5))\n",
        "#return에 의해 10 + 5인 15의 값이 호출한 위치에 전달됩니다.\n",
        "#print(15)가 되므로 값이 15가 출력됩니다.\n",
        "\n",
        "print(Function3(10,5))\n",
        "#Function3(10,5) 내부의 print문에 의해 10 + 5에 대한 출력 결과가 출력되고\n",
        "#return하지 않았기 때문에 전달된 값이 없음, 이 경우 None으로 처리됨\n",
        "# 따라서 print(None)가 진행됨"
      ],
      "metadata": {
        "colab": {
          "base_uri": "https://localhost:8080/"
        },
        "id": "sYz_DT1HYGy3",
        "outputId": "7f71fc22-e46e-4cd5-a47b-f268257f24e4"
      },
      "execution_count": null,
      "outputs": [
        {
          "output_type": "stream",
          "name": "stdout",
          "text": [
            "15\n",
            "15\n",
            "None\n"
          ]
        }
      ]
    },
    {
      "cell_type": "markdown",
      "source": [
        "# 가변인자\n",
        ">> 파이썬에서 함수를 정의할 때, 인자 값의 개수를 가변적으로 정의해야할 경우 사용합니다.\n",
        "\n",
        "    e.g.) so(1,2), so(1,2,3), so(1,2,3,4)이런 식으로 쓰고 싶은 경우"
      ],
      "metadata": {
        "id": "aBFtQg5BZBzA"
      }
    },
    {
      "cell_type": "code",
      "source": [
        "# parameter 자리에 *을 붙여준다.\n",
        "def so(*args):\n",
        "  print(args)"
      ],
      "metadata": {
        "id": "ZXLGZ3CVZXqv"
      },
      "execution_count": null,
      "outputs": []
    },
    {
      "cell_type": "code",
      "source": [
        "so(1,2)\n",
        "so(1,2,3)\n",
        "so(1,2,3,4)\n",
        "# 튜플 표현시 1,2,3으로 적으면 (1,2,3) 형태가 된다.\n",
        "# 따라서 이건 튜플이다."
      ],
      "metadata": {
        "colab": {
          "base_uri": "https://localhost:8080/"
        },
        "id": "-1OZ5dGIZhkP",
        "outputId": "9af7bd59-3505-4fbd-b61e-f163fd2cba34"
      },
      "execution_count": null,
      "outputs": [
        {
          "output_type": "stream",
          "name": "stdout",
          "text": [
            "(1, 2)\n",
            "(1, 2, 3)\n",
            "(1, 2, 3, 4)\n"
          ]
        }
      ]
    },
    {
      "cell_type": "code",
      "source": [
        "def sum(*args):\n",
        "  result = 0\n",
        "  for i in args:\n",
        "    result += i\n",
        "  return result"
      ],
      "metadata": {
        "id": "FSW-A_uwaDUX"
      },
      "execution_count": null,
      "outputs": []
    },
    {
      "cell_type": "code",
      "source": [
        "print(sum(1,2,3,4,5))\n",
        "print(sum(1,2,3,4))"
      ],
      "metadata": {
        "colab": {
          "base_uri": "https://localhost:8080/"
        },
        "id": "dgcqQ0HbaRlX",
        "outputId": "6baec5bf-db45-4445-bda3-bd88c3fab547"
      },
      "execution_count": null,
      "outputs": [
        {
          "output_type": "stream",
          "name": "stdout",
          "text": [
            "15\n",
            "10\n"
          ]
        }
      ]
    },
    {
      "cell_type": "markdown",
      "source": [
        "# 가변 인자(키워드)\n",
        ">> 키워드 = 값의 형태를 전달할 수 있습니다.  \n",
        ">>(dict) 매개변수 앞에 *이 2개 붙습니다.\n",
        "\n",
        ">>e.g.) so2(**kwargs)"
      ],
      "metadata": {
        "id": "f6_8pS7TbiKn"
      }
    },
    {
      "cell_type": "code",
      "source": [
        "def so2(**kwargs):\n",
        "  print(kwargs)"
      ],
      "metadata": {
        "id": "sz4U-qF2bewn"
      },
      "execution_count": null,
      "outputs": []
    },
    {
      "cell_type": "code",
      "source": [
        "so2(a = 1, b = 2, c = \"JK\")"
      ],
      "metadata": {
        "colab": {
          "base_uri": "https://localhost:8080/"
        },
        "id": "1fHLMw3kcIHX",
        "outputId": "dae80c99-8fb5-43d3-e86b-0360d77f695a"
      },
      "execution_count": null,
      "outputs": [
        {
          "output_type": "stream",
          "name": "stdout",
          "text": [
            "{'a': 1, 'b': 2, 'c': 'JK'}\n"
          ]
        }
      ]
    },
    {
      "cell_type": "code",
      "source": [
        "def info(**kwargs):\n",
        "  for k, v in kwargs.items():\n",
        "    print(k,v)"
      ],
      "metadata": {
        "id": "KWfyftLicMxH"
      },
      "execution_count": null,
      "outputs": []
    },
    {
      "cell_type": "code",
      "source": [
        "info(이름 = \"뿌요\", 나이 = 5)"
      ],
      "metadata": {
        "colab": {
          "base_uri": "https://localhost:8080/"
        },
        "id": "EqJisrdccV7n",
        "outputId": "238a3945-f7a6-4046-8e08-a53057c0931f"
      },
      "execution_count": null,
      "outputs": [
        {
          "output_type": "stream",
          "name": "stdout",
          "text": [
            "이름 뿌요\n",
            "나이 5\n"
          ]
        }
      ]
    },
    {
      "cell_type": "code",
      "source": [
        "kor, eng, mat = map(int, input(\"점수를 입력하세요 : \").split())\n",
        "\n",
        "# map(function, iterable)\n",
        "# function : 각 요소에 적용할 함수를 의미합니다. 여기서는 각각의 값에 int()적용\n",
        "# interable : 데이터 묶음\n",
        "\n",
        "# >> kor, eng, mat를 대상으로 각각 입력한 값을 split()에 의해 띄어쓰기 기준으로 분리하고\n",
        "# int()로 정수형 데이터로 변경합니다.\n",
        "\n",
        "# >> 국, 영, 수를 띄어쓰기 기준으로 숫자 순서대로 입력하면 알아서 나워지는 기능\n",
        "\n",
        "#입력값은 100, 81, 79 순으로 입력\n",
        "\n",
        "max = getMax(kor, eng, mat)\n",
        "print(\"높은 점수 : \", max) #100\n",
        "\n",
        "max = getMax(eng, mat)\n",
        "print(\"높은 점수 : \", max) #81\n",
        "\n",
        "#위의 계산 결과라 처리될 수 있게 함수 getMax를 설계하세요.\n"
      ],
      "metadata": {
        "colab": {
          "base_uri": "https://localhost:8080/",
          "height": 236
        },
        "id": "Wx0w9LNYcz13",
        "outputId": "7f315b7c-6e99-469a-9490-718519d05393"
      },
      "execution_count": null,
      "outputs": [
        {
          "name": "stdout",
          "output_type": "stream",
          "text": [
            "점수를 입력하세요 : 100 81 79\n"
          ]
        },
        {
          "output_type": "error",
          "ename": "NameError",
          "evalue": "name 'getMax' is not defined",
          "traceback": [
            "\u001b[0;31m---------------------------------------------------------------------------\u001b[0m",
            "\u001b[0;31mNameError\u001b[0m                                 Traceback (most recent call last)",
            "\u001b[0;32m<ipython-input-16-3d59e14f2612>\u001b[0m in \u001b[0;36m<cell line: 0>\u001b[0;34m()\u001b[0m\n\u001b[1;32m     12\u001b[0m \u001b[0;31m#입력값은 100, 81, 79 순으로 입력\u001b[0m\u001b[0;34m\u001b[0m\u001b[0;34m\u001b[0m\u001b[0m\n\u001b[1;32m     13\u001b[0m \u001b[0;34m\u001b[0m\u001b[0m\n\u001b[0;32m---> 14\u001b[0;31m \u001b[0mmax\u001b[0m \u001b[0;34m=\u001b[0m \u001b[0mgetMax\u001b[0m\u001b[0;34m(\u001b[0m\u001b[0mkor\u001b[0m\u001b[0;34m,\u001b[0m \u001b[0meng\u001b[0m\u001b[0;34m,\u001b[0m \u001b[0mmat\u001b[0m\u001b[0;34m)\u001b[0m\u001b[0;34m\u001b[0m\u001b[0;34m\u001b[0m\u001b[0m\n\u001b[0m\u001b[1;32m     15\u001b[0m \u001b[0mprint\u001b[0m\u001b[0;34m(\u001b[0m\u001b[0;34m\"높은 점수 : \"\u001b[0m\u001b[0;34m,\u001b[0m \u001b[0mmax\u001b[0m\u001b[0;34m)\u001b[0m \u001b[0;31m#100\u001b[0m\u001b[0;34m\u001b[0m\u001b[0;34m\u001b[0m\u001b[0m\n\u001b[1;32m     16\u001b[0m \u001b[0;34m\u001b[0m\u001b[0m\n",
            "\u001b[0;31mNameError\u001b[0m: name 'getMax' is not defined"
          ]
        }
      ]
    },
    {
      "cell_type": "code",
      "source": [
        "kor, eng, mat = map(int, input(\"점수를 입력하세요 : \").split())\n",
        "def getMax(*args):\n",
        "  args = list(args)\n",
        "  args.sort()\n",
        "  return args[-1]\n",
        "\n",
        "max = getMax(kor, eng, mat)\n",
        "print(\"높은 점수 : \", max)"
      ],
      "metadata": {
        "colab": {
          "base_uri": "https://localhost:8080/"
        },
        "id": "txahXFuxDVTs",
        "outputId": "46959c2b-da14-47b2-89dd-5e85582ce94e"
      },
      "execution_count": null,
      "outputs": [
        {
          "output_type": "stream",
          "name": "stdout",
          "text": [
            "점수를 입력하세요 : 100 81 79\n",
            "높은 점수 :  100\n"
          ]
        }
      ]
    }
  ]
}