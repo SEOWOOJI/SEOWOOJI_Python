{
  "nbformat": 4,
  "nbformat_minor": 0,
  "metadata": {
    "colab": {
      "provenance": [],
      "authorship_tag": "ABX9TyNFo8cqyZWYawdguL848dcX",
      "include_colab_link": true
    },
    "kernelspec": {
      "name": "python3",
      "display_name": "Python 3"
    },
    "language_info": {
      "name": "python"
    }
  },
  "cells": [
    {
      "cell_type": "markdown",
      "metadata": {
        "id": "view-in-github",
        "colab_type": "text"
      },
      "source": [
        "<a href=\"https://colab.research.google.com/github/SEOWOOJI/SEOWOOJI_Python/blob/main/2025_01_25__2.ipynb\" target=\"_parent\"><img src=\"https://colab.research.google.com/assets/colab-badge.svg\" alt=\"Open In Colab\"/></a>"
      ]
    },
    {
      "cell_type": "markdown",
      "source": [
        "# 튜플(tuple)\n",
        "\n",
        "* 튜플명 = ()의 형태로 만듭니다.\n",
        "* 수정이 불가능한 데이터"
      ],
      "metadata": {
        "id": "DiIkqGXPPMIS"
      }
    },
    {
      "cell_type": "code",
      "execution_count": null,
      "metadata": {
        "id": "SgjtboXrPH6n"
      },
      "outputs": [],
      "source": [
        "t1 = (1,) # 튜플은 값이 1개일 경우에도 ,를 써줘야 함\n",
        "t2 = (1) # 이 경우 그냥 값 1로 처리됩니다.\n",
        "t3 = 1,2,3 # ()를 생략하고 적으면 자동으로 튜플"
      ]
    },
    {
      "cell_type": "code",
      "source": [
        "print(t1)\n",
        "print(t2)\n",
        "print(t3)"
      ],
      "metadata": {
        "colab": {
          "base_uri": "https://localhost:8080/"
        },
        "id": "HU5O0Wm6Pcy4",
        "outputId": "bf8ae43e-161c-4a8b-de73-4a5a0b50c7e1"
      },
      "execution_count": null,
      "outputs": [
        {
          "output_type": "stream",
          "name": "stdout",
          "text": [
            "(1,)\n",
            "1\n",
            "(1, 2, 3)\n"
          ]
        }
      ]
    },
    {
      "cell_type": "code",
      "source": [
        "t3[0] = 4\n",
        "# 다음과 같이 튜플에 대한 수정이 불가능합니다."
      ],
      "metadata": {
        "colab": {
          "base_uri": "https://localhost:8080/",
          "height": 148
        },
        "id": "aF1SB60qQJzi",
        "outputId": "2693d0c8-fa55-488d-a464-4484697cc4e0"
      },
      "execution_count": null,
      "outputs": [
        {
          "output_type": "error",
          "ename": "TypeError",
          "evalue": "'tuple' object does not support item assignment",
          "traceback": [
            "\u001b[0;31m---------------------------------------------------------------------------\u001b[0m",
            "\u001b[0;31mTypeError\u001b[0m                                 Traceback (most recent call last)",
            "\u001b[0;32m<ipython-input-7-29fdd2dc2153>\u001b[0m in \u001b[0;36m<cell line: 0>\u001b[0;34m()\u001b[0m\n\u001b[0;32m----> 1\u001b[0;31m \u001b[0mt3\u001b[0m\u001b[0;34m[\u001b[0m\u001b[0;36m0\u001b[0m\u001b[0;34m]\u001b[0m \u001b[0;34m=\u001b[0m \u001b[0;36m4\u001b[0m\u001b[0;34m\u001b[0m\u001b[0;34m\u001b[0m\u001b[0m\n\u001b[0m",
            "\u001b[0;31mTypeError\u001b[0m: 'tuple' object does not support item assignment"
          ]
        }
      ]
    },
    {
      "cell_type": "code",
      "source": [
        "t3 = 1,2,3,4\n",
        "# 이 경우는 t3를 새로운 값으로써 만드는 작업이기에 위의 수정과는 다른 개념"
      ],
      "metadata": {
        "id": "-EKBUv_uQbEH"
      },
      "execution_count": null,
      "outputs": []
    },
    {
      "cell_type": "code",
      "source": [
        "t4 = t3[:2]\n",
        "print(t4)"
      ],
      "metadata": {
        "colab": {
          "base_uri": "https://localhost:8080/"
        },
        "id": "dvsgRbg6RK64",
        "outputId": "cb1df59f-a380-462d-b86e-96c374c26efe"
      },
      "execution_count": null,
      "outputs": [
        {
          "output_type": "stream",
          "name": "stdout",
          "text": [
            "(1, 2)\n"
          ]
        }
      ]
    },
    {
      "cell_type": "code",
      "source": [
        "del t3[0] # 불가능 (특정 값에 대한 접근 수정 제거 행위)\n",
        "del t3 # 가능 (전체 데이터 그 자체에 대한 삭제)"
      ],
      "metadata": {
        "colab": {
          "base_uri": "https://localhost:8080/",
          "height": 166
        },
        "id": "KErYaxa7QtS4",
        "outputId": "fa4b4824-0b68-43ba-cf8c-2a2fb9fbe44a"
      },
      "execution_count": null,
      "outputs": [
        {
          "output_type": "error",
          "ename": "TypeError",
          "evalue": "'tuple' object doesn't support item deletion",
          "traceback": [
            "\u001b[0;31m---------------------------------------------------------------------------\u001b[0m",
            "\u001b[0;31mTypeError\u001b[0m                                 Traceback (most recent call last)",
            "\u001b[0;32m<ipython-input-16-cf8ce3eef805>\u001b[0m in \u001b[0;36m<cell line: 0>\u001b[0;34m()\u001b[0m\n\u001b[0;32m----> 1\u001b[0;31m \u001b[0;32mdel\u001b[0m \u001b[0mt3\u001b[0m\u001b[0;34m[\u001b[0m\u001b[0;36m0\u001b[0m\u001b[0;34m]\u001b[0m \u001b[0;31m# 불가능 (특정 값에 대한 접근 수정 제거 행위)\u001b[0m\u001b[0;34m\u001b[0m\u001b[0;34m\u001b[0m\u001b[0m\n\u001b[0m\u001b[1;32m      2\u001b[0m \u001b[0;32mdel\u001b[0m \u001b[0mt3\u001b[0m \u001b[0;31m# 가능 (전체 데이터 그 자체에 대한 삭제)\u001b[0m\u001b[0;34m\u001b[0m\u001b[0;34m\u001b[0m\u001b[0m\n",
            "\u001b[0;31mTypeError\u001b[0m: 'tuple' object doesn't support item deletion"
          ]
        }
      ]
    },
    {
      "cell_type": "markdown",
      "source": [
        "# 튜플의 사용 목적\n",
        ">> 튜플은 변하지 않는 데이터라는 특징이 있다. 따라서 프로그램에서 수정되는 안되는 핵심 데이터에 대한 설계를 진행하기 좋습니다."
      ],
      "metadata": {
        "id": "UWxE8J1WRidn"
      }
    },
    {
      "cell_type": "markdown",
      "source": [
        "# 딕셔너리(dict)\n",
        "\n",
        "e.g.) 이름 = \"김덕배\" 국가 = \"nation\"처럼 대응 관계로 설명할 수 있는 데이터를 표현하는 리스트와 더불어 가장 많이 사용되는 자료형 중 하나입니다.\n",
        "\n",
        "연관 배열(associative array) 또는 해시(hash)라고도 부릅니다.\n",
        "자바 등에서는 Map이라고 부릅니다."
      ],
      "metadata": {
        "id": "uFeaK0BVSIPw"
      }
    },
    {
      "cell_type": "markdown",
      "source": [
        "# 딕셔너리의 특징\n",
        ">> 키(key) - 값(value) 형태로 구성되어있음\n",
        "* 키\n",
        "      값에 접근하기 위한 데이터 딕셔너리 내부에 키는 고유한 값을 가집니다.\n",
        "* 값\n",
        "      키를 통해 접근한 데이터 딕셔너리 내부에 값은 중복된 값을 가질 수 있습니다.\n",
        "\n",
        ">> 딕셔너리는 리스트나 튜플같은 순차적 데이터(sequential)이 아닙니다. 따라서 인덱스나 슬라이싱을 사용할 수 없습니다.\n"
      ],
      "metadata": {
        "id": "j4ZHjm10TTZw"
      }
    },
    {
      "cell_type": "code",
      "source": [
        "# 딕셔너리 만드는 방법\n",
        "# 딕셔너리명 = {키1 : 값1, 키2 : 값2, ....}\n",
        "\n",
        "dict = {'name' : 'jane','phone' : '010-1234-5678','birth' : 1997}\n",
        "dict2 = {'name' : 'brown','phone' : '010-6666-6666','birth' : 1997}\n",
        "dict3 = {'name' : 'terry','phone' : '010-2783-2187','birth' : 1997}\n",
        "dict4 = {'name' : 'jone','phone' : '010-6798-1231','birth' : 1997}"
      ],
      "metadata": {
        "id": "oLAS5edjRhyH"
      },
      "execution_count": null,
      "outputs": []
    },
    {
      "cell_type": "code",
      "source": [
        "print(dict['name'])\n",
        "print(dict['birth'])\n",
        "print(dict['phone'])\n",
        "print(dict)"
      ],
      "metadata": {
        "colab": {
          "base_uri": "https://localhost:8080/"
        },
        "id": "bpS6s9vKVPng",
        "outputId": "ac30a38f-6870-4238-a073-0bad59b6c972"
      },
      "execution_count": null,
      "outputs": [
        {
          "output_type": "stream",
          "name": "stdout",
          "text": [
            "jane\n",
            "1997\n",
            "010-1234-5678\n",
            "{'name': 'jane', 'phone': '010-1234-5678', 'birth': 1997}\n"
          ]
        }
      ]
    },
    {
      "cell_type": "code",
      "source": [
        "import tabulate as tb\n",
        "data = [dict, dict2, dict3, dict4]\n",
        "print(tb.tabulate(data, headers = \"keys\"))\n",
        "# dictionary의 keys를 통해 키의 묶음을 따로 관리"
      ],
      "metadata": {
        "colab": {
          "base_uri": "https://localhost:8080/"
        },
        "id": "onPf22VuVaKI",
        "outputId": "39abee47-7cd5-49ce-b808-4f6798fcdcb7"
      },
      "execution_count": null,
      "outputs": [
        {
          "output_type": "stream",
          "name": "stdout",
          "text": [
            "name    phone            birth\n",
            "------  -------------  -------\n",
            "jane    010-1234-5678     1997\n",
            "brown   010-6666-6666     1997\n",
            "terry   010-2783-2187     1997\n",
            "jone    010-6798-1231     1997\n"
          ]
        }
      ]
    },
    {
      "cell_type": "code",
      "source": [
        "# 다음 표의 이미지를 보고 딕셔너리를 만드시오.\n",
        "\n",
        "# 이름        가격    재고\n",
        "#------     -------  ------\n",
        "# 메로나      700      35\n",
        "# 비비빅      700      27\n",
        "# 월드콘      1200     22"
      ],
      "metadata": {
        "id": "vzcjOY2k7WpE"
      },
      "execution_count": null,
      "outputs": []
    },
    {
      "cell_type": "code",
      "source": [
        "icecream01 = {'이름' : '메로나', '가격' : 700, '재고' : 35}\n",
        "icecream02 = {'이름' : '비비빅', '가격' : 700, '재고' : 27}\n",
        "icecream03 = {'이름' : '월드콘', '가격' : 1200, '재고' : 22}"
      ],
      "metadata": {
        "id": "GGplTi6h8Nes"
      },
      "execution_count": null,
      "outputs": []
    },
    {
      "cell_type": "code",
      "source": [
        "import tabulate as tb\n",
        "data = [icecream01, icecream02, icecream03]\n",
        "print(tb.tabulate(data, headers = 'keys'))"
      ],
      "metadata": {
        "colab": {
          "base_uri": "https://localhost:8080/"
        },
        "id": "Jw1SU2cr8q1k",
        "outputId": "70bfd2f6-0454-4219-a487-37c801260954"
      },
      "execution_count": null,
      "outputs": [
        {
          "output_type": "stream",
          "name": "stdout",
          "text": [
            "이름      가격    재고\n",
            "------  ------  ------\n",
            "메로나     700      35\n",
            "비비빅     700      27\n",
            "월드콘    1200      22\n"
          ]
        }
      ]
    },
    {
      "cell_type": "code",
      "source": [
        "# 딕셔너리 생성 방식\n",
        "# 1. 딕셔너리명 = {키 : 값}\n",
        "\n",
        "# 2. dict() 함수를 통해 생성\n",
        "# 딕셔너리명 = dict(키 = 값)\n",
        "\n",
        "icecream04 = dict(이름 = \"하겐다즈 딸기맛 바\", 가격 = 2700, 재고 = 1)\n",
        "\n",
        "import tabulate as tb\n",
        "data = [icecream01, icecream02, icecream03, icecream04] # 딕셔너리를 내부에 넣은 리스트로 테이블 형성\n",
        "print(tb.tabulate(data, headers = 'keys'))"
      ],
      "metadata": {
        "colab": {
          "base_uri": "https://localhost:8080/"
        },
        "id": "-_dfXwFQ8wWs",
        "outputId": "af394f4c-e9c8-4736-987c-1a301919d7bc"
      },
      "execution_count": null,
      "outputs": [
        {
          "output_type": "stream",
          "name": "stdout",
          "text": [
            "이름                  가격    재고\n",
            "------------------  ------  ------\n",
            "메로나                 700      35\n",
            "비비빅                 700      27\n",
            "월드콘                1200      22\n",
            "하겐다즈 딸기맛 바    2700       1\n"
          ]
        }
      ]
    },
    {
      "cell_type": "code",
      "source": [
        "# 딕셔너리 관련 문법\n",
        "\n",
        "a = dict() #비어있는 딕셔너리 만들 수 있습니다.\n",
        "print(type(a))\n",
        "b = {}\n",
        "print(type(b))\n",
        "\n",
        "# 딕셔너리 값 추가 방법\n",
        "# 딕셔너리명[키] = 값\n",
        "a[\"이름\"] = \"유한솔\"\n",
        "print(a)\n",
        "\n",
        "#딕셔너리 값 수정 방법\n",
        "#기존에 있는 키에 새로운 값을 적용\n",
        "a[\"이름\"] = \"장한솔\"\n",
        "print(a)\n",
        "\n",
        "# 딕셔너리 값 제거 방법\n",
        "del a[\"이름\"]\n",
        "print(a)"
      ],
      "metadata": {
        "colab": {
          "base_uri": "https://localhost:8080/"
        },
        "id": "MKBtvGsK-qab",
        "outputId": "1f2a32cb-60e4-49e5-dbc1-8f0e295a6b07"
      },
      "execution_count": null,
      "outputs": [
        {
          "output_type": "stream",
          "name": "stdout",
          "text": [
            "<class 'dict'>\n",
            "<class 'dict'>\n",
            "{'이름': '유한솔'}\n",
            "{'이름': '장한솔'}\n",
            "{}\n"
          ]
        }
      ]
    },
    {
      "cell_type": "code",
      "source": [
        "# 딕셔너리 키, 값에 관련된 문법\n",
        "data = dict(name = \"001AFBI\" , code = 1, path = \"KKNB-4996\")\n",
        "\n",
        "# 값 하나를 불러오는 방법\n",
        "# 딕셔너리명[키]\n",
        "print(data['name'])\n",
        "\n",
        "#딕셔너리를 이용해 key 리스트를 생성합니다.\n",
        "key_list = list(data.keys())\n",
        "print(key_list)\n",
        "# 딕셔너리를 이용해 value 리스트를 생성합니다.\n",
        "value_list = list(data.values())\n",
        "print(value_list)\n",
        "#딕셔너리를 이용해 items(key와 value의 한 쌍) 리스트를 생성합니다.\n",
        "items_list = list(data.items())\n",
        "print(items_list)\n",
        "\n",
        "# in을 이용해 내부에 키가 있는지를 조사\n",
        "if \"process\" in data:\n",
        "  print(\"해당 키가 존재합니다.\")\n",
        "else:\n",
        "  print(\"해당 키가 존재하지 않습니다.\")\n",
        "\n",
        "data.clear() # 딕셔너리 내부 값 전부 제거\n",
        "if not data:\n",
        "  print(\"현재 데이터가 없습니다.\")"
      ],
      "metadata": {
        "colab": {
          "base_uri": "https://localhost:8080/"
        },
        "id": "DWh2dvjy_1Bs",
        "outputId": "a2c2abda-78b7-4f77-c00b-91c67ce75eac"
      },
      "execution_count": null,
      "outputs": [
        {
          "output_type": "stream",
          "name": "stdout",
          "text": [
            "001AFBI\n",
            "['name', 'code', 'path']\n",
            "['001AFBI', 1, 'KKNB-4996']\n",
            "[('name', '001AFBI'), ('code', 1), ('path', 'KKNB-4996')]\n",
            "해당 키가 존재하지 않습니다.\n",
            "현재 데이터가 없습니다.\n"
          ]
        }
      ]
    },
    {
      "cell_type": "code",
      "source": [
        "# zip() 함수\n",
        "#파이썬의 내장 함수입니다.\n",
        "# iterable(순회가 가능한 형태의 객체)를 전달받아 각 자료현의 각각의 요소를 나누고 인덱스끼리\n",
        "# 잘라 리스트로 return해주는 기능\n",
        "# iterable의 유형 : 리스트, 튜플\n",
        "\n",
        "list1 = [1,2,3,4]\n",
        "list2 = ['one','two','three','four']\n",
        "\n",
        "list3 = list(zip(list1, list2))\n",
        "print(list3)\n",
        "\n",
        "for x,y in list3:\n",
        "  print(x,y)"
      ],
      "metadata": {
        "colab": {
          "base_uri": "https://localhost:8080/"
        },
        "id": "O3LIqc6tCCZz",
        "outputId": "796d7f69-5d09-4176-e57b-a32d64a3a616"
      },
      "execution_count": null,
      "outputs": [
        {
          "output_type": "stream",
          "name": "stdout",
          "text": [
            "[(1, 'one'), (2, 'two'), (3, 'three'), (4, 'four')]\n",
            "1 one\n",
            "2 two\n",
            "3 three\n",
            "4 four\n"
          ]
        }
      ]
    },
    {
      "cell_type": "markdown",
      "source": [
        "# 자료구조 set\n",
        ">> 파이썬에서 집합을 표현할 수 있는 자료구조\n",
        "수학적인 집합개념을 표현할 때 사용하며, 중복되지 않는다는 특징으로 인해 중복 값을 쉽게 제거하는 용도로 사용됩니다.\n",
        "\n",
        "\n",
        ">>따로 순서의 개념이 없어서 인덱스, 슬라이싱 사용 불가"
      ],
      "metadata": {
        "id": "34pHKl8bD3vT"
      }
    },
    {
      "cell_type": "code",
      "source": [
        "s1 = set() #비어있는 set 생성\n",
        "s2 = set([1,2,3,2,2,2]) # 리스트를 set로 변경\n",
        "s3 = {1,2,3} # {값1, 값2, 값3}와 같은 형태로 적히면 set, {키 : 값} 형태로 적히면 dict\n",
        "s4 = {4, 11, 99, 'a'}\n",
        "\n",
        "print(type(s1))\n",
        "print(type(s2))\n",
        "print(type(s3))\n",
        "print(type(s4))\n",
        "\n",
        "print(s1)\n",
        "print(s2) # 중복제거\n",
        "print(s3)\n",
        "print(s4) #적힌 순서가 아닌 내부의 구조에 따라 알아서 저장됩니다."
      ],
      "metadata": {
        "colab": {
          "base_uri": "https://localhost:8080/"
        },
        "id": "1hEtVYQoEUYz",
        "outputId": "7db90aaa-3309-4a87-b1b5-c153f4a66cf4"
      },
      "execution_count": null,
      "outputs": [
        {
          "output_type": "stream",
          "name": "stdout",
          "text": [
            "<class 'set'>\n",
            "<class 'set'>\n",
            "<class 'set'>\n",
            "<class 'set'>\n",
            "set()\n",
            "{1, 2, 3}\n",
            "{1, 2, 3}\n",
            "{99, 'a', 11, 4}\n"
          ]
        }
      ]
    },
    {
      "cell_type": "code",
      "source": [
        "# set를 이용한 수학적 집합 표현법\n",
        "A = {1,2,3,4,5,6,7,8,9,10}\n",
        "B = {2,4,6,8,10}\n",
        "\n",
        "# 1) intersection(교집합)\n",
        "C = A.intersection(B)\n",
        "print(C)\n",
        "C = A & B\n",
        "print(C)\n",
        "\n",
        "# 2) union(합집합)\n",
        "D = A.union(B)\n",
        "print(D)\n",
        "D = A | B\n",
        "print(D)\n",
        "\n",
        "# 3) difference(차집합)\n",
        "E = A.difference(B)\n",
        "print(E)\n",
        "E = A - B\n",
        "print(E)"
      ],
      "metadata": {
        "colab": {
          "base_uri": "https://localhost:8080/"
        },
        "id": "Xr-g9VZdIjBC",
        "outputId": "04ceb754-0db4-4e73-bed5-2849e0774c15"
      },
      "execution_count": null,
      "outputs": [
        {
          "output_type": "stream",
          "name": "stdout",
          "text": [
            "{2, 4, 6, 8, 10}\n",
            "{2, 4, 6, 8, 10}\n",
            "{1, 2, 3, 4, 5, 6, 7, 8, 9, 10}\n",
            "{1, 2, 3, 4, 5, 6, 7, 8, 9, 10}\n",
            "{1, 3, 5, 7, 9}\n",
            "{1, 3, 5, 7, 9}\n"
          ]
        }
      ]
    },
    {
      "cell_type": "code",
      "source": [
        "# set 기본 문법\n",
        "s = set()\n",
        "s.add(1)\n",
        "s.add(1)\n",
        "s.add(1)\n",
        "s.add(1) # 같은 값은 추가해도 하나만 등록됩니다.\n",
        "print(s)\n",
        "\n",
        "s.update([4,5,6]) # 여러 값을 한번에 추가하는 기능 update\n",
        "print(s)\n",
        "\n",
        "s.remove(1)\n",
        "print(s)"
      ],
      "metadata": {
        "colab": {
          "base_uri": "https://localhost:8080/"
        },
        "id": "kK5ibIYJKY3a",
        "outputId": "35917077-c99d-47fe-a7c4-bd0b8aa88cc2"
      },
      "execution_count": null,
      "outputs": [
        {
          "output_type": "stream",
          "name": "stdout",
          "text": [
            "{1}\n",
            "{1, 4, 5, 6}\n",
            "{4, 5, 6}\n"
          ]
        }
      ]
    },
    {
      "cell_type": "markdown",
      "source": [
        "# 컴프리헨션(comprehension)\n",
        ">> 파이썬에서 제공하는 특정 자료구조를 간단하게 설계할 수 있는 작성 방법"
      ],
      "metadata": {
        "id": "eVrBwMRTDngD"
      }
    },
    {
      "cell_type": "code",
      "source": [
        "# 리스트 컴프리헨션\n",
        "\n",
        "#리스트명 = [변수명 for문 if문]\n",
        "number = [x for x in range(10) if x % 2 == 0]\n",
        "print(number)\n",
        "# 0부터 9까지의 숫자 리스트 중에서 짝수인 값만\n",
        "# 리스트로 만들어 줍니다."
      ],
      "metadata": {
        "colab": {
          "base_uri": "https://localhost:8080/"
        },
        "id": "g4e-20AcDgVz",
        "outputId": "ae3e4483-1c9c-4242-8add-7ca07aa881d8"
      },
      "execution_count": null,
      "outputs": [
        {
          "output_type": "stream",
          "name": "stdout",
          "text": [
            "[0, 2, 4, 6, 8]\n"
          ]
        }
      ]
    },
    {
      "cell_type": "code",
      "source": [
        "# 리스트 컴프리헨션이 아닌 일반적인 방법으로 위의 값을 만드는 방법\n",
        "\n",
        "number = list()\n",
        "for x in range(10):\n",
        "  if x % 2 == 0:\n",
        "    number.append(x)\n",
        "print(number)"
      ],
      "metadata": {
        "colab": {
          "base_uri": "https://localhost:8080/"
        },
        "id": "bfS7C29qMEQy",
        "outputId": "fd7c0c86-4068-4927-be02-48bd23d99045"
      },
      "execution_count": null,
      "outputs": [
        {
          "output_type": "stream",
          "name": "stdout",
          "text": [
            "[0, 2, 4, 6, 8]\n"
          ]
        }
      ]
    },
    {
      "cell_type": "code",
      "source": [
        "# 리스트 컴프리헨션에서 조건문 추가하기\n",
        "\n",
        "# 1. if문만 사용되는 경우(필터링 기능)\n",
        "# >> for문 다음에 서술을 해줍니다.\n",
        "\n",
        "list1 = [x for x in range(1, 101) if x % 3 == 0]\n",
        "print(list1)\n",
        "\n",
        "# 2. if - else문을 적을 경우\n",
        "# >> if - else가 값을 결정하는 역할로 사용됩니다.\n",
        "# >> 이 경우에는 for문보다 앞에 서술됩니다.\n",
        "\n",
        "# 1부터 10까지의 숫자 중에서 짝수는 제곱, 홀수는 그대로 저장\n",
        "list2 = [x ** 2 if x % 2 == 0 else x for x in range(1,11)]\n",
        "print(list2)\n",
        "\n",
        "# 3. if - elif - else문의 작성되는 경우\n",
        "# >> elif는 리스트 컴프리헨션에서 사용할 수 없습니다.\n",
        "#    따라서 if - else를 두번 사용하는 방식으로 구현합니다.\n",
        "\n",
        "# [변수 if 조건문1 else문 if 조건문2 else문 for문]\n",
        "# e.g.) [-3, -1, 0, 1, 3]을 이용해 숫자의 형태에 따라 'zero','pos','neg'로 분류하시오.\n",
        "# pos는 양의 정수, zero는 0, neg는 음의 정수를 의미합니다.\n",
        "\n",
        "list3 = [-3, -1, 0, 1, 3]\n",
        "result = ['positive' if i > - 0 else 'negative' if i < 0 else 'zero' for i in list3]\n",
        "print(result)"
      ],
      "metadata": {
        "colab": {
          "base_uri": "https://localhost:8080/"
        },
        "id": "gET3-bTGPw_R",
        "outputId": "840b4004-2055-4bc6-f503-0b88f9cfeebb"
      },
      "execution_count": null,
      "outputs": [
        {
          "output_type": "stream",
          "name": "stdout",
          "text": [
            "[3, 6, 9, 12, 15, 18, 21, 24, 27, 30, 33, 36, 39, 42, 45, 48, 51, 54, 57, 60, 63, 66, 69, 72, 75, 78, 81, 84, 87, 90, 93, 96, 99]\n",
            "[1, 4, 3, 16, 5, 36, 7, 64, 9, 100]\n",
            "['negative', 'negative', 'zero', 'positive', 'positive']\n"
          ]
        }
      ]
    },
    {
      "cell_type": "code",
      "source": [
        "# 딕셔너리 컴프리헨션\n",
        "\n",
        "# 1. 일반적으로 같은 데이터의 길이를 가진 2개의 리스트를 준비합니다.\n",
        "# 2. zip()함수를 통해 해당 리스트를 각각의 값으로 바인딩합니다.\n",
        "\n",
        "rank = ['S','A','B']\n",
        "name = ['독수리', '매','비둘기']\n",
        "\n",
        "item_data = {k : v for  k,v in zip(rank,name)}\n",
        "# 1. item_data는 k : v 형태의 요소를 가지게 됩니다.()\n",
        "# 2. for문을 통해 rank, name으 zip 객체의 k,v를 처리합니다.\n",
        "#    이때, k는 key를 v는 value를 의미합니다.\n",
        "# 3. zip(rank, name)에 의해 rank의 각각의 값과  name의 각각의 값이 바인딩됩니다.\n",
        "\n",
        "print(item_data)\n",
        "\n",
        "name = ['메로나','돼지바','폴라포']\n",
        "price = [1000, 1200, 1300]\n",
        "\n",
        "less_1200 = {k : v for k,v in zip(name, price) if v < 1200}\n",
        "print(less_1200)"
      ],
      "metadata": {
        "colab": {
          "base_uri": "https://localhost:8080/"
        },
        "id": "YAgPJupdDjvL",
        "outputId": "6211d5e4-9539-4a60-9028-ff26edcf104e"
      },
      "execution_count": null,
      "outputs": [
        {
          "output_type": "stream",
          "name": "stdout",
          "text": [
            "{'S': '독수리', 'A': '매', 'B': '비둘기'}\n",
            "{'메로나': 1000}\n"
          ]
        }
      ]
    },
    {
      "cell_type": "code",
      "source": [
        "# 세트 컴프리헨션\n",
        "# 리스트 컴프리헨션애서 []대신 {}를 써주면 바로 set가 됩니다.\n",
        "\n",
        "set1 = {x for x in range(1,11) if x % 2 == 0}\n",
        "print(set1)\n",
        "\n",
        "set2 = {x*2 if x % 2 == 0 else x for x in range(1,11)}\n",
        "print(set2)"
      ],
      "metadata": {
        "colab": {
          "base_uri": "https://localhost:8080/"
        },
        "id": "SNI3l36TL9Xi",
        "outputId": "94d1f589-619d-4c5b-b58e-3ea7e339a22f"
      },
      "execution_count": null,
      "outputs": [
        {
          "output_type": "stream",
          "name": "stdout",
          "text": [
            "{2, 4, 6, 8, 10}\n",
            "{1, 3, 4, 5, 7, 8, 9, 12, 16, 20}\n"
          ]
        }
      ]
    },
    {
      "cell_type": "markdown",
      "source": [],
      "metadata": {
        "id": "AYBjK47L7XN8"
      }
    }
  ]
}