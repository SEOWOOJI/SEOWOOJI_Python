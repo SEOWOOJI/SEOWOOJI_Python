{
  "nbformat": 4,
  "nbformat_minor": 0,
  "metadata": {
    "colab": {
      "provenance": [],
      "authorship_tag": "ABX9TyO4r+yAE4xpxQrh+k3OplWy",
      "include_colab_link": true
    },
    "kernelspec": {
      "name": "python3",
      "display_name": "Python 3"
    },
    "language_info": {
      "name": "python"
    }
  },
  "cells": [
    {
      "cell_type": "markdown",
      "metadata": {
        "id": "view-in-github",
        "colab_type": "text"
      },
      "source": [
        "<a href=\"https://colab.research.google.com/github/SEOWOOJI/SEOWOOJI_Python/blob/main/2025_02_02_%ED%81%B4%EB%9E%98%EC%8A%A4.ipynb\" target=\"_parent\"><img src=\"https://colab.research.google.com/assets/colab-badge.svg\" alt=\"Open In Colab\"/></a>"
      ]
    },
    {
      "cell_type": "markdown",
      "source": [
        "# 클래스\n",
        "\n",
        "    객체를 만들어주기 위한 역할\n",
        "    프로그램에서의 특정한 데이터에 대한 설계\n",
        "    변수와 함수를 묶어서 관리하는 데이터, 단위\n",
        "\n",
        "# 객체\n",
        "\n",
        "    클래스에 의해 만들어지는 결과물\n",
        "    파이썬 프로그램에서 모든 데이터는 객체\n",
        "    숫자, 문자열, 리스트, 딕셔너리 --> 객체\n",
        "    객체는 identity와 type, value를 가지게 됩니다.\n",
        "\n",
        "#identity\n",
        "\n",
        "    객체가 메모리에 저장된 위치를 가리키는 이름\n",
        "    e.g.) a = 10라고 할 때, 25라는 값(value)을 가지는 정수 객체가 생성되는 것이며,\n",
        "          이때 그 객체가 저장된 위치를 가리키는 이름(identity)가 a입니다.\n",
        "\n",
        "# type\n",
        "\n",
        "    객체의 타입은 클래스입니다.\n",
        "    객체에 대한 내부적인 표현 상태와\n",
        "    객체가 지원하는 기능 동작 등을 설명합니다.\n",
        "    클래스를 기반으로 설계한 객체를 생성하면\n",
        "    그 객체는 해당 클래스의 인스턴스(inatance)\n",
        "    라고 부르겠습니다.\n",
        "\n",
        "객체는 형태에 따라 다음과 같이 분류합니다.\n",
        "    \n",
        "    1. 값 변경이 가능하다 --> mutable\n",
        "       e.g.) list, dict\n",
        "    2. 객체의 값을 변경할 수 없다 --> immutable\n",
        "       e.g.) int, float, str, tuple\n",
        "    3. 다른 객체에 대한 참조를 담는 객체이다.\n",
        "       >> 데이터의 종류와 무관하게 저장이 가능한 데이터\n",
        "       --> container, collection    \n",
        "       컨테이너 종류 예시\n",
        "    e.g.) tuple, str, list, dict, set\n",
        "          컨테이너가 아닌 기본 데이터\n",
        "          int, float 등은 단일 종류(literal)\n",
        "\n",
        "      컬렉션(collection) : list, dict, set, tuple\n",
        "      파이썬에서는 Collections 모듈을 제공합니다.\n",
        "      해당 기능을 통해 데이터 처리에 유용한 함수들을 제공받아 dict, list, set, tuple 등의 자료형에서 확장된 기능을 사용할 수 있습니다."
      ],
      "metadata": {
        "id": "wwJ_ZESKGcsg"
      }
    },
    {
      "cell_type": "markdown",
      "source": [
        "# **클래스와 함수의 비교**\n",
        "\n",
        "    함수 : 특정 하나의 명령을 수행하기 위한 명령문 집합체\n",
        "\n",
        "    클래스 : 객체에 대한 상태, 동작에 대한 정의로 특정 객체에 대한 집합체\n",
        "#클래스 만드는 방법\n",
        "\n",
        "    class 클래스명:\n",
        "        필드 : 클래스 내부에서 만들어지는 변수\n",
        "               객체의 상태를 정의합니다.\n",
        "        메소드(method) : 클래스 내부에서 만들어지는 함수\n",
        "                         객체의 동작, 기능을 구현합니다.\n",
        "# 함수 만드는 방법\n",
        "\n",
        "    def 외부함수명(매개변수명):\n",
        "        nonlocal 변수\n",
        "        명령문\n",
        "        def 내부함수명\n",
        "            local 변수\n",
        "            명령문\n",
        "            return 값\n",
        "        return 내부함수"
      ],
      "metadata": {
        "id": "YJ5X6HiEM8oR"
      }
    },
    {
      "cell_type": "code",
      "execution_count": 7,
      "metadata": {
        "id": "Tb1p9iK0Gb1T"
      },
      "outputs": [],
      "source": [
        "class Calculator:\n",
        "  result = 0 #계산기 객체에서 결과 값을 표현하기 위한 필드\n",
        "\n",
        "  def add(self, num): #self는 클래스 자신이 가지고 있는 값에 대한 접근을 위한 전용 변수\n",
        "      self.result += num\n",
        "      return self.result\n",
        "\n",
        "  def sub(self, num):\n",
        "    self.result -= num\n",
        "    return self.result"
      ]
    },
    {
      "cell_type": "code",
      "source": [
        "a = Calculator()\n",
        "#변수명 = 클래스명() --> 클래스 생성 코드\n",
        "\n",
        "a.add(5) #self는 클래스 내부에서 체크하는 값이기 때문에, 따로 넣어주지 않습니다.\n",
        "         # 따라서 현재 넣은 5는 add 함수의 num이 받게 됩니다.\n",
        "print(a.result)\n",
        "\n",
        "\n",
        "b = Calculator()\n",
        "b.sub(7)\n",
        "print(b.result)\n",
        "#만들어 놓은 클래스를 이용해 객체를 만들고, 객체의 필드와 메소드를 활용해 프로그램을 설계할 수 있습니다.\n",
        "#>> OOP(Object Oriented Programing) : 객체 지향 프로그래밍"
      ],
      "metadata": {
        "colab": {
          "base_uri": "https://localhost:8080/"
        },
        "id": "Hh0SuZ-pPVfi",
        "outputId": "23c0dce8-8835-4cc5-d7f8-3177502dd4ac"
      },
      "execution_count": 6,
      "outputs": [
        {
          "output_type": "stream",
          "name": "stdout",
          "text": [
            "5\n",
            "-7\n"
          ]
        }
      ]
    },
    {
      "cell_type": "markdown",
      "source": [
        "# OOP(Object Oriented Programing) : 객체 지향 프로그래밍\n",
        "\n",
        "* 요구 사항(제공해야할 내용)을 찾고 세분화합니다.\n",
        "* 해당 기능에 알맞은 객체를 할당합니다.\n",
        "* 기능 구현에 필요한 데이터를 객체에 추가합니다.(필드)\n",
        "* 해당 데이터를 이용하는 기능을 구현합니다.(메소드)\n",
        "* 객체 간에 메소드 호출 방식을 결정합니다.\n",
        "\n",
        "# 객체 지향 설계의 5원칙 (SOLID)\n",
        "\n",
        "1. SPR(Single Responsibility Principle) : 단일 책임\n",
        "2. OCP(Open  - Closed Principle) : 개방 페쇄\n",
        "3. LSP(Liskov Substitution Principle) : 리스코프 치환\n",
        "4. ISP(Interface Segregation Principle) : 인터페이스 분리\n",
        "5. DIP(Dependency Inversion Principle) : 의존성 역전\n",
        "\n",
        "SPR는 하나의 클래스가 수행할 수 있는 기능(책임)이 너무 많다면, 프로그램 변경, 새 요구 사항이 추가될 경우 연쇄적으로 변경되는 문제가 있음.\n",
        "\n",
        "OCP는 확장에는 Open, 변경에는 Close하라는 뜻으로, 기존의 코드를 변경하지 않고 기능을 수정, 추가 할 수 있게 설계해야 합니다.(상속, 인터페이스 활용)\n",
        "\n",
        "LSP는 하위 타입의 객체는 상위 타입 객체에서 가능한 동작을 수행 할 수 있어야 합니다.\n",
        "상위 타입의 객체를 하위 타입의 객체로 대체해도 돌아가야 합니다.\n",
        "\n",
        "    e.g.) \"자동차\"가 존재하고 이 자동차에서는 엑셀 기능이 존재합니다. 엑셀 기능을 통해 자동차가 나아갈 수 있습니다.  \n",
        "          근데 \"자동차\"를 이용해 \"BMW 시리즈 자동차\"를 개발하고 엑셀 기능을 진행했는데 움직이지 않는다.(LSP 위반)\n",
        "\n",
        "ISP는 세부적으로 기능을 분배해서 설계하라는 뜻\n",
        "\n",
        "    e.g.) \"자동차\" 하나에 모든 기을을 넣어서 분배하는 것보다\n",
        "          기능 별로 세부 분배해서 엑셀, 브레이크, 타이어, 수리 등으로 기능을 나누어서 분배 설계하면\n",
        "          문제가 생겼을 때, 특정 항목의 설계 부분만 수정하면 효율적으로 수정할 수 있다.\n",
        "\n",
        "DIP는 인테페이스에 의존해 설계를 진행하라는 의미입니다.  \n",
        "인터페이스는 구체적인 구현이 아닌 틀만 잡혀있는 데이터이기에 그 틀을 전달받아 추가 구현하는 식으로 작업하면, 안정하게 코드를 짤 수 있고 공통 개발자들끼리 기능에 대한 공유가 편하게 진행됩니다."
      ],
      "metadata": {
        "id": "8NCdBOVuQcBZ"
      }
    },
    {
      "cell_type": "code",
      "source": [
        "#클래스 생성자\n",
        "\n",
        "#생성자는 클래스와 이름이 동일한 메소드 형태로 사용하며, 클래스를 생성할 때 사용합니다.\n",
        "#위의 예제에서 변수명 = 클래스명()으로 배웠던 클래스의 생성 방법은 변수명 = 생성자명()으로 해석이 가능합니다.\n",
        "class Circle:\n",
        "  # 클래스가 제공해주는 특별한 메소드 __init__(self)는 클래스를 통해 객체를 생성할 때\n",
        "  #호출되는 메소드입니다.\n",
        "  #아래처럼 self 다음에 매개변수를 추가할 경우 생성 시, 매개변수를 전달해서 사용합니다.\n",
        "  def __init__(self, radious):\n",
        "    self.radious = radious\n",
        "    # 외부에서 전달받은 radious를 클래스 내부의 값(self) radious로 정하는 코드\n",
        "\n",
        "circleA = Circle(5) #5의 값을 전달해 Circle 클래스의 반지름 값으로 설정하고 생성합니다.\n",
        "#변수명 = 생성자명(매개변수):\n",
        "print(circleA.radious)\n",
        "#필드로 따로 만들지 않고 함수 내에서 만들었지만, self.radious를 통해 클래스 자신의 값으로 설정했기에 생성 이후에\n",
        "#정상적으로 접근되는 것을 볼 수 있습니다."
      ],
      "metadata": {
        "colab": {
          "base_uri": "https://localhost:8080/"
        },
        "id": "qjSPWr-acG-F",
        "outputId": "52c5bbb6-8e8b-4449-9ab4-cc004cfa3622"
      },
      "execution_count": 8,
      "outputs": [
        {
          "output_type": "stream",
          "name": "stdout",
          "text": [
            "5\n"
          ]
        }
      ]
    },
    {
      "cell_type": "code",
      "source": [
        "class Book:\n",
        "  #init처럼 앞과 뒤에 언더바가 두개 붙는 메소드는 dunder메소드(매직 메소드)\n",
        "  #사용자가 직접 호출하는게 아닌 특정 동작을 진행할 때 클래스 내부에서 호출되는 클래스입니다.\n",
        "  def __init__(self, title, price, author):\n",
        "    self.title = title #일반적으로 언더바(_)가 안붙은 변수나 함수는 public 처리가 됩니다.(모든 곳에서 접근 가능)\n",
        "    self.__price = price #언더바(__) 2개를 변수나 함수의 이름 앞에 붙여줄 경우, private 처리 됩니다.(접근 불가)\n",
        "    self._author = author #언더바(_) 1개를 변수에 붙일 경우, protected 처리 됩니다. 하지만 강제성은 없습니다.(접근 가능)\n",
        "                          #클래스를 상속받은 클래스에서 접근이 가능하게 설정합니다.\n",
        "                          #언더바 1개가 함수에 붙는 경우에는 해당 함수를 사용하지 말라고 권하는 용도(사용 자체는 가능)\n",
        "\n",
        "  def info(self):\n",
        "    print(f'제목 : {self.title}')\n",
        "    print(f'가격 : {self.__price}')\n",
        "    print(f'저자 : {self._author}')\n",
        "\n",
        "print(dir(Book)) #dir(클래스명)을 이용하면 클래스에 정의된 모든 속성과 메소드를 나열해줍니다.\n",
        "book1 = Book('소년이 온다',13500, '한강')\n",
        "book1.info()\n",
        "print(book1.title)\n",
        "#print(book1.__price) #private 설정이 되어있어서 외부에서 직접 확인 불가(오류 발생)\n",
        "print(book1._author) #protected  설정이 걸려 있지만 _를 쓰고 찍으면 써지긴 합니다."
      ],
      "metadata": {
        "colab": {
          "base_uri": "https://localhost:8080/"
        },
        "id": "MznemwtVeVGt",
        "outputId": "ca90a5ff-1241-4478-be0c-956fe3089113"
      },
      "execution_count": 10,
      "outputs": [
        {
          "output_type": "stream",
          "name": "stdout",
          "text": [
            "['__class__', '__delattr__', '__dict__', '__dir__', '__doc__', '__eq__', '__format__', '__ge__', '__getattribute__', '__getstate__', '__gt__', '__hash__', '__init__', '__init_subclass__', '__le__', '__lt__', '__module__', '__ne__', '__new__', '__reduce__', '__reduce_ex__', '__repr__', '__setattr__', '__sizeof__', '__str__', '__subclasshook__', '__weakref__', 'info']\n",
            "제목 : 소년이 온다\n",
            "가격 : 13500\n",
            "저자 : 한강\n",
            "소년이 온다\n",
            "한강\n"
          ]
        }
      ]
    },
    {
      "cell_type": "code",
      "source": [
        "#클래스 상속\n",
        "#클래스를 이용해서 새로운 클래스를 만드는 기술\n",
        "\n",
        "class Country:\n",
        "  name = \"country name\"\n",
        "  population = 'population'\n",
        "  capital = 'country_capital'\n",
        "\n",
        "  #클래스 그 자체를 print()문법으로 뽑았을 때 나올 내용을 작성하는 도구\n",
        "  def __repr__(self):\n",
        "    return f'국가이름 : {self.name}, 인구 : {self.population}명, 수도 : {self.capital}'"
      ],
      "metadata": {
        "id": "j33p_MyKhUOO"
      },
      "execution_count": 12,
      "outputs": []
    },
    {
      "cell_type": "code",
      "source": [
        "class Korea(Country): #하위 클래스명(상위 클래스명)을 통해 상위 클래스의 기능을 전달받은 상태로 클래스를 만들 수 있습니다.\n",
        "  def __init__(self, name, population, capital):\n",
        "  #__init__(self)를 __init__(self, name, population, capital)처럼\n",
        "  #매개변수의 개수만 바꿔 새롭게 만드는 행위(오버로딩)\n",
        "    self.name = name\n",
        "    self.population = population\n",
        "    self.capital = capital\n",
        "  def action(self): # 기존에 있던 메소드를 다시 작성하는 행위(오버라이딩)\n",
        "    print(\"Koreaura!\")"
      ],
      "metadata": {
        "id": "XK2-ys8ThkoW"
      },
      "execution_count": 15,
      "outputs": []
    },
    {
      "cell_type": "code",
      "source": [
        "a = Korea('대한민국', 50000000, '서울')\n",
        "print(a)\n",
        "a.action()\n",
        "Korea.mro() #현재 코리아 클래스가 어떤 클래스와 상속 관계인가를 확인할 수 있습니다."
      ],
      "metadata": {
        "colab": {
          "base_uri": "https://localhost:8080/"
        },
        "id": "ExcbGnx4itev",
        "outputId": "a28d83f2-3791-4d20-b2f5-3550d5a01008"
      },
      "execution_count": 17,
      "outputs": [
        {
          "output_type": "stream",
          "name": "stdout",
          "text": [
            "국가이름 : 대한민국, 인구 : 50000000명, 수도 : 서울\n",
            "Koreaura!\n"
          ]
        },
        {
          "output_type": "execute_result",
          "data": {
            "text/plain": [
              "[__main__.Korea, __main__.Country, object]"
            ]
          },
          "metadata": {},
          "execution_count": 17
        }
      ]
    }
  ]
}