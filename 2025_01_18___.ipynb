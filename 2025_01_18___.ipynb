{
  "nbformat": 4,
  "nbformat_minor": 0,
  "metadata": {
    "colab": {
      "provenance": [],
      "authorship_tag": "ABX9TyMeiaoh6zvkW3SyoeijF16d",
      "include_colab_link": true
    },
    "kernelspec": {
      "name": "python3",
      "display_name": "Python 3"
    },
    "language_info": {
      "name": "python"
    }
  },
  "cells": [
    {
      "cell_type": "markdown",
      "metadata": {
        "id": "view-in-github",
        "colab_type": "text"
      },
      "source": [
        "<a href=\"https://colab.research.google.com/github/SEOWOOJI/SEOWOOJI_Python/blob/main/2025_01_18___.ipynb\" target=\"_parent\"><img src=\"https://colab.research.google.com/assets/colab-badge.svg\" alt=\"Open In Colab\"/></a>"
      ]
    },
    {
      "cell_type": "markdown",
      "source": [
        "# 파이썬 함수\n",
        "함수는 호출을 통해 특정 하나의 기능을 수행하는 명령 집합체입니다.\n",
        "\n",
        "e.g.) 믹서기의 역할은 무엇입니까?\n",
        "\n",
        "    어떠한 것을 넣고 갈아서 결과물을 만드는 도구\n",
        "\n",
        "여기서 어떠한 것은 입력 값  \n",
        "믹서는 기능(함수)  \n",
        "출력 결과는 결과 값이라고 부를 수 있습니다.\n",
        "\n",
        "e.g.) y = 2x + 3 이라고 할 때, x가 1이라면 y의 값은? 5  \n",
        "x가 2 라면? 7"
      ],
      "metadata": {
        "id": "50iu4XQIRDno"
      }
    },
    {
      "cell_type": "code",
      "execution_count": null,
      "metadata": {
        "id": "cuR1K85_Qfdi"
      },
      "outputs": [],
      "source": [
        "def explust(x):\n",
        "  return 2*x + 3"
      ]
    },
    {
      "cell_type": "code",
      "source": [
        "explust(1)"
      ],
      "metadata": {
        "colab": {
          "base_uri": "https://localhost:8080/"
        },
        "id": "Gh6A6J-eTM8I",
        "outputId": "d3b9b636-c93f-46c9-9cd0-281659ecf23d"
      },
      "execution_count": null,
      "outputs": [
        {
          "output_type": "execute_result",
          "data": {
            "text/plain": [
              "5"
            ]
          },
          "metadata": {},
          "execution_count": 2
        }
      ]
    },
    {
      "cell_type": "code",
      "source": [
        "explust(2)"
      ],
      "metadata": {
        "colab": {
          "base_uri": "https://localhost:8080/"
        },
        "id": "m_DeFgdbTutv",
        "outputId": "3e2a23cb-6b3a-43f7-c8f7-308b28229658"
      },
      "execution_count": null,
      "outputs": [
        {
          "output_type": "execute_result",
          "data": {
            "text/plain": [
              "7"
            ]
          },
          "metadata": {},
          "execution_count": 3
        }
      ]
    },
    {
      "cell_type": "markdown",
      "source": [
        "# 매개변수와 인수\n",
        "---\n",
        "매개변수(parameter) : 함수에 입력으로 전달된 값을 받는 변수\n",
        "\n",
        "e.g.) def add(a,b): # a와 b가 매개변수\n",
        "        return a + b\n",
        "\n",
        "인수(arguments) : 함수를 호출할 때 전달하는 입력 값(value)\n",
        "\n",
        "e.g.) 위의 add(a,b)를 다음과 같이 호출합니다.\n",
        "add(1,5) 이 때, 1과 5가 add함수에 전달할 인자입니다.\n",
        "\n",
        "    용어적으로 자주 헷갈릴 수 있는 용어\n",
        "    입력값 --> 인수, 피라미터, 매개변수\n",
        "    리턴값 --> 결괏값, 출력값, 반환값\n",
        "    위에서 작성한 뜻으로 정확하게 기억합니다."
      ],
      "metadata": {
        "id": "Ys_41gbU4vEQ"
      }
    },
    {
      "cell_type": "markdown",
      "source": [
        "# 함수의 기본 형태\n",
        "---\n",
        "1) 매개변수를 요구하는 함수\n",
        ">> 해당 함수를 호출하는 경우 반드시 매개변수에 해당하는 값(인자)를 넣어서 호출합니다.\n",
        "\n",
        "    def 함수의 이름(매개변수):\n",
        "    함수를 호출했을 때 실행할 코드 작성 영역\n",
        "    ...\n",
        "    return 값\n",
        "\n",
        "2) 매개변수를 요구하지 않는 함수\n",
        ">> 해당함수를 호출할 경우에는 전달해주는 값 없이 바로 사용할 수 있습니다.\n",
        "\n",
        "    def함수의 이름():\n",
        "    함수를 호출했을 때 실행할 코드 작성 영역\n",
        "    ...\n",
        "    return 값\n",
        "\n",
        "3) 리턴이 없는 함수\n",
        ">> 해당 함수에는 리턴값이 따로 없습니다.\n",
        "\n",
        "    def 함수의 이름(매개변수):\n",
        "    함수를 호출했을 때 실행할 코드 작성 영역\n",
        "\n",
        "4) 매개변수를 요구하지 않는 리턴이 없는 함수\n",
        ">> 해당 함수에는 매개변수와 리턴값이 따로 없습니다.\n",
        "\n",
        "    def 함수의 이름():\n",
        "    함수를 호출했을 때 실행할 코드 작성 영역\n",
        "\n",
        "---\n",
        "# 리턴 값(return)\n",
        ">> 함수가 호출될 때 생성되는 결과를 의미합니다.  \n",
        "따로 return값을 설정해두지 않은 함수의 경우 암시적으로 None을 return합니다.\n",
        "\n",
        "# 키워드 return\n",
        ">>return키워드가 실행되면 함수를 종료합니다.  \n",
        "그 후 함수를 호출한 위치에 return 다음에 적은 리턴 값을 전달합니다.\n",
        "\n",
        "    e.g.) a = add(1,5)라고 코드를 작성했을 경우, 만들어놓은 add(a,b)를 호출하게 되고, a,b에 각각 1과 5가 전달됩니다.\n",
        "    그후 내부의 return코드에 의해 함수가 종료되고 return 값으로 설정해둔 a + b\n",
        "    즉 1 + 5 의 결과가 add(1.5)를 호출한 자리에 전달됩니다.\n",
        "    따라서 함수 종료 후 a = 6이 되어 a는 6의 값으로 설정됩니다.\n",
        "    "
      ],
      "metadata": {
        "id": "j5dWRX2e6-eo"
      }
    },
    {
      "cell_type": "markdown",
      "source": [
        "# 매개변수로 정수를 전달받으면, 그 수만큼 *을 출력하는 함수 print_star를 구현하시오."
      ],
      "metadata": {
        "id": "fxpFoFjw-2qH"
      }
    },
    {
      "cell_type": "code",
      "source": [
        "def print_star(x):\n",
        "  return \"★\" * x"
      ],
      "metadata": {
        "id": "p-G9cPnR-1Zn"
      },
      "execution_count": null,
      "outputs": []
    },
    {
      "cell_type": "code",
      "source": [
        "print_star(4)"
      ],
      "metadata": {
        "colab": {
          "base_uri": "https://localhost:8080/",
          "height": 35
        },
        "id": "BTQeuOUK_Srg",
        "outputId": "a7fb8b9f-daed-4a0b-f675-17e9544d1837"
      },
      "execution_count": null,
      "outputs": [
        {
          "output_type": "execute_result",
          "data": {
            "text/plain": [
              "'★★★★'"
            ],
            "application/vnd.google.colaboratory.intrinsic+json": {
              "type": "string"
            }
          },
          "metadata": {},
          "execution_count": 4
        }
      ]
    },
    {
      "cell_type": "markdown",
      "source": [
        "# 아래의 실행 결과와 동일하도록 함수를 구현하세요.\n",
        "\n",
        "print_triangle(3)  \n",
        "■  \n",
        "■■  \n",
        "■■■"
      ],
      "metadata": {
        "id": "OJFaU-Zx_hAP"
      }
    },
    {
      "cell_type": "code",
      "source": [
        "def print_triangle(x):\n",
        "  for i in range(1, x+1):\n",
        "    print(\"■\" * i)\n",
        "    i += 1\n",
        "\n",
        "print_triangle(3)"
      ],
      "metadata": {
        "colab": {
          "base_uri": "https://localhost:8080/"
        },
        "id": "HXFXh8RtAAnH",
        "outputId": "c0f640c1-941d-402f-d0de-e5a950cc16fe"
      },
      "execution_count": null,
      "outputs": [
        {
          "output_type": "stream",
          "name": "stdout",
          "text": [
            "■\n",
            "■■\n",
            "■■■\n"
          ]
        }
      ]
    },
    {
      "cell_type": "code",
      "source": [
        "def print_triangle(x):\n",
        "  for i in range(x):\n",
        "    print(\"■\" * (i+1))\n",
        "\n",
        "print_triangle(3)"
      ],
      "metadata": {
        "colab": {
          "base_uri": "https://localhost:8080/"
        },
        "id": "uGWA0DxvB78v",
        "outputId": "9fd74ad0-a590-4c6a-af5d-25c589699150"
      },
      "execution_count": null,
      "outputs": [
        {
          "output_type": "stream",
          "name": "stdout",
          "text": [
            "■\n",
            "■■\n",
            "■■■\n"
          ]
        }
      ]
    },
    {
      "cell_type": "markdown",
      "source": [
        "정수를 넣었을 때, ■가 점점 늘어나면서 직각 삼각형같은 모양의 출력결과가 나오게 되는 함수입니다.  \n",
        "전달받은 정수만큼 반복을 진행하며, 반복 회차마다 ■가 회차만큼 늘어나고 있습니다.  \n",
        "반복이기 때문에 while문 또는 for문을 활용하며, 특히 특정 횟수만큼 반복이 진행되는 만큼 for문을 활용하는 게 가장 수월합니다."
      ],
      "metadata": {
        "id": "bvhCT-riCKkP"
      }
    },
    {
      "cell_type": "markdown",
      "source": [
        "# 원의 둘레를 계산할 수 있는 함수를 구현하세요.\n",
        "\n",
        "    조건1. 함수의 이름은 getArea\n",
        "    조건2. 매개변수의 이름은 r\n",
        "    조건3. 이 함수에서 원주율값(pi)는 3.14로 처리된다.\n",
        "    완성된 함수를 통해 getArea(10)의 값을 계산합니다.\n",
        "    \n",
        "    힌트 : 원의 둘레는 2 * pi * r"
      ],
      "metadata": {
        "id": "ORLKgYcrGIBQ"
      }
    },
    {
      "cell_type": "code",
      "source": [
        "def getArea(r):\n",
        "  return 2 * 3.14 * r\n",
        "\n",
        "getArea(10)"
      ],
      "metadata": {
        "colab": {
          "base_uri": "https://localhost:8080/"
        },
        "id": "zEAzNjfQHEe_",
        "outputId": "86a228b4-05eb-4b69-8ef1-bb4ee71eba07"
      },
      "execution_count": null,
      "outputs": [
        {
          "output_type": "execute_result",
          "data": {
            "text/plain": [
              "62.800000000000004"
            ]
          },
          "metadata": {},
          "execution_count": 21
        }
      ]
    },
    {
      "cell_type": "markdown",
      "source": [
        "# a + aa + aaa를 계산하는 함수 aby3을 구현하시오.\n",
        "\n",
        "    조건1. 완성된 함수를 통해 aby3(9)를 계산해 주세요."
      ],
      "metadata": {
        "id": "K45cJI69It73"
      }
    },
    {
      "cell_type": "code",
      "source": [
        "def aby3(a):\n",
        "  return a + int(str(a) * 2) + int(str(a) * 3)"
      ],
      "metadata": {
        "id": "viGlYd9TLFhv"
      },
      "execution_count": null,
      "outputs": []
    },
    {
      "cell_type": "markdown",
      "source": [
        "문자열의 경우 곱하기를 진행하면 그 문장이 곱하기 횟수만큼 추가되는 방식 위에서 푼 예제의 ★ * 5 = ★★★★★  \n",
        "a를 str로 캐스팅합니다. 9 ~> \"9\"가 됩니다. \"9\" * 2 = \"99\"가 됩니다. \"99\"를 int로 캐스팅합니다. \"99\" ~> 99가 됩니다."
      ],
      "metadata": {
        "id": "-vBvAoJMLpZv"
      }
    },
    {
      "cell_type": "code",
      "source": [
        "aby3(9)"
      ],
      "metadata": {
        "colab": {
          "base_uri": "https://localhost:8080/"
        },
        "id": "2ExCQaQULZnP",
        "outputId": "ad8cbbb2-0233-4ba0-c6a8-074f2ae7d086"
      },
      "execution_count": null,
      "outputs": [
        {
          "output_type": "execute_result",
          "data": {
            "text/plain": [
              "1107"
            ]
          },
          "metadata": {},
          "execution_count": 28
        }
      ]
    },
    {
      "cell_type": "code",
      "source": [
        "def aby3(a):\n",
        "  return a + ((a*10)+a) + ((a*100)+(a*10)+a)\n",
        "# 각 자리수에 맞춰서 곱하기한 결과를 더해준다.\n",
        "# 단 이 경우는 자리수에 따라 계산 결과가 달라질 수 있습니다."
      ],
      "metadata": {
        "colab": {
          "base_uri": "https://localhost:8080/"
        },
        "id": "0o-Z4VovJLDX",
        "outputId": "1b1999fd-5fb9-4fb1-9728-30dd358b7e39"
      },
      "execution_count": null,
      "outputs": [
        {
          "output_type": "execute_result",
          "data": {
            "text/plain": [
              "1107"
            ]
          },
          "metadata": {},
          "execution_count": 26
        }
      ]
    },
    {
      "cell_type": "code",
      "source": [
        "aby3(9)"
      ],
      "metadata": {
        "colab": {
          "base_uri": "https://localhost:8080/"
        },
        "id": "o9AZgsi9LcG4",
        "outputId": "a0412da9-30d6-4d49-c300-51ed6f1918b4"
      },
      "execution_count": null,
      "outputs": [
        {
          "output_type": "execute_result",
          "data": {
            "text/plain": [
              "1107"
            ]
          },
          "metadata": {},
          "execution_count": 29
        }
      ]
    },
    {
      "cell_type": "markdown",
      "source": [
        "# 소금물의 농도를 구하는 함수를 구현하시오.\n",
        "\n",
        "    조건1. 20% 농도의 소금물 100g과 물 200g을 혼합한 소금물의 농도(%)를 소수점 2번째자리까지 계산하시오.\n",
        "\n",
        "    조건2. 함수의 이름은 getSalt\n",
        "\n",
        "    힌트1 : f\"{salt:.2f}\"\n",
        "\n",
        "    힌트2 : 소금물의 농도 = 소금의 양 / 소금물의 양 * 100 (%)"
      ],
      "metadata": {
        "id": "rjEuXanTNWy3"
      }
    },
    {
      "cell_type": "markdown",
      "source": [
        "문제 풀이)  \n",
        "20% 농도의 소금물 100g과 물 200g을 혼합한 소금물의 농도(%)를 소수점 2번째자리까지 계산하시오.\n",
        "\n",
        "소금물의 농도 = 소금의 양 / 소금물의 양 * 100 (%)\n",
        "\n",
        "현재 소금물은 농도 20(%)의 100g과 물 200g의 혼합 결과입니다. 100 + 200 = 300(g)\n",
        "\n",
        "소금의 양? -->> 현재 공식에서 소금의 양만 남기고 나머지 부분을 넘겨주면 된다.  \n",
        "소금의 양 = 소금물의 농도 * 소금물의 양 / 100\n",
        "\n",
        "이 때, 소금의 양을 구하려면 20% 농도안 100g의 소금물로부터 구해줍니다. (나머지 200g은 그냥 일반 물이기 때문에 계산에서 배제합니다.)\n",
        "\n",
        "salt = 20 * 100 / 100 = 20\n",
        "\n",
        "농도 = 20 / 300 * 100 이때는 전체 소금물에서 농도를 확인해야하기 때문에 300으로 계산합니다."
      ],
      "metadata": {
        "id": "0OpwfovkTSMX"
      }
    },
    {
      "cell_type": "code",
      "source": [
        "def getSalt():\n",
        "  s = (20 * 100) / 100\n",
        "  salt = (s / 300) * 100\n",
        "  return f\"{salt:.2f}(%)\""
      ],
      "metadata": {
        "id": "7Ttj4IxuOAvH"
      },
      "execution_count": null,
      "outputs": []
    },
    {
      "cell_type": "code",
      "source": [
        "getSalt()"
      ],
      "metadata": {
        "colab": {
          "base_uri": "https://localhost:8080/",
          "height": 35
        },
        "id": "mhz37QHAQtMX",
        "outputId": "bb396de5-30f5-43f0-ac8c-7629b2c6e573"
      },
      "execution_count": null,
      "outputs": [
        {
          "output_type": "execute_result",
          "data": {
            "text/plain": [
              "'6.67(%)'"
            ],
            "application/vnd.google.colaboratory.intrinsic+json": {
              "type": "string"
            }
          },
          "metadata": {},
          "execution_count": 37
        }
      ]
    },
    {
      "cell_type": "code",
      "source": [
        "def getSalt(salt,saltwater):\n",
        "  return salt / saltwater * 100\n",
        "# 함수에는 return 값만 표현해주는게 좋습니다.\n",
        "# 학생들 풀이처럼 return에 f-string를 적어도 상관은 없지만 문제 제출을 진행하는\n",
        "# 라면 위의 코드처럼 값만 return 해주면 됩니다."
      ],
      "metadata": {
        "id": "UCJt3ZfETAiX"
      },
      "execution_count": null,
      "outputs": []
    },
    {
      "cell_type": "code",
      "source": [
        "print(f\"{getSalt(20, 300) : .2f}%\")\n",
        "# 출력은 따로 내부의 프로그램에서 처리해줄 것입니다."
      ],
      "metadata": {
        "colab": {
          "base_uri": "https://localhost:8080/"
        },
        "id": "zpOCI-TkVa4n",
        "outputId": "549ca21f-ce54-4a0d-8283-16dbbd472a49"
      },
      "execution_count": null,
      "outputs": [
        {
          "output_type": "stream",
          "name": "stdout",
          "text": [
            " 6.67%\n"
          ]
        }
      ]
    },
    {
      "cell_type": "markdown",
      "source": [
        "# 함수를 사용하는 이유\n",
        "\n",
        "1.   코드의 재사용성\n",
        ">> 함수는 특정 기능을 수행하는 코드를 정의하고 필요에 따라 호출해서 사용하는 방식입니다. 따라서 한 번 만들어놓은 또는 존재하는 함수를 호출하고 값만 잘 넣어주면 작업의 결과가 쉽게 나오게 됩니다.\n",
        "\n",
        "2.   가독성과 유지 보수\n",
        ">> 함수는 특정 작업 하나만 수행하기 때문에 코드를 볼 때 이해하기가 쉽습니다.(그 기능만 분석하면 되기 때문)\n",
        "\n",
        "    특정 기능만 있기 때문에 문제가 생기면 전체 코드를 보는게 아닌 그 기능만 점검해서 고치면 쉽게 고쳐집니다.\n",
        "\n",
        "3.   모듈성(module)\n",
        ">> 함수를 기반으로 프로그램을 짜게 되면 특정 기능을 수행하는 코드를 모듈화 해서 관리하는 것이 가능합니다.\n",
        "--> 각자가 담당구역 분배해서 개발하면 다른 부분의 세부 사항까지 알 필요없이 맡은 부분만 효율적으로 개발할 수 있고, 시스템적으로 잘 돌아가게 됩니다.\n",
        "\n",
        "    module : 시스템을 구성하는 요소, 시스템의 특정한 기능을 담당하는 곳\n",
        "\n",
        "4.   추상화(abstract)\n",
        ">> 함수를 사용하면 복잡한 작업을 추상화하는 것이 가능합니다.  \n",
        "복잡한 설명없이 '해당 함수를 실행하면 해당 기능이 수행된다' 정도로 프로세스를 이해할 수 있다는 의미입니다."
      ],
      "metadata": {
        "id": "uasEpapGYG54"
      }
    }
  ]
}