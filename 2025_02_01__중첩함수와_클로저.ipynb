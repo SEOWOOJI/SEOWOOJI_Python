{
  "nbformat": 4,
  "nbformat_minor": 0,
  "metadata": {
    "colab": {
      "provenance": [],
      "name": "2025_02_01_ 중첩함수와 클로저.ipynb",
      "authorship_tag": "ABX9TyNuJU1DE4aUvZlPufe/BUdT",
      "include_colab_link": true
    },
    "kernelspec": {
      "name": "python3",
      "display_name": "Python 3"
    },
    "language_info": {
      "name": "python"
    }
  },
  "cells": [
    {
      "cell_type": "markdown",
      "metadata": {
        "id": "view-in-github",
        "colab_type": "text"
      },
      "source": [
        "<a href=\"https://colab.research.google.com/github/SEOWOOJI/SEOWOOJI_Python/blob/main/2025_02_01__%EC%A4%91%EC%B2%A9%ED%95%A8%EC%88%98%EC%99%80_%ED%81%B4%EB%A1%9C%EC%A0%80.ipynb\" target=\"_parent\"><img src=\"https://colab.research.google.com/assets/colab-badge.svg\" alt=\"Open In Colab\"/></a>"
      ]
    },
    {
      "cell_type": "markdown",
      "source": [
        "# 중첩함수와 클로저\n",
        "\n",
        "* 중첩함수(Nested Function)는 함수 안에 정의되어 있는 함수를 의미합니다.\n",
        "* 중첨함수를 감싸고 있는 함수는 외부 함수(outer), 설계한 내주의 중첩함수는 내부함수(inner)라고 부릅니다.\n",
        "* 클로저(Closure)는 함수와 해당 함수가 가지고 있는 데이터를 같이 복사, 저장하고 있다가 함수를 호출할 때, 다시 꺼내서 사용하는 함수"
      ],
      "metadata": {
        "id": "GUCThj2yKXeN"
      }
    },
    {
      "cell_type": "markdown",
      "source": [
        "# 중첩 함수 사용 목적\n",
        "\n",
        "1. 반복된 코드 블럭을 함수로 정의해 코드의 가독성을 높일 수 있습니다.\n",
        "2. 클로저를 사용하기 위해"
      ],
      "metadata": {
        "id": "Ai8jutZSLLZU"
      }
    },
    {
      "cell_type": "code",
      "execution_count": null,
      "metadata": {
        "id": "tQBtOUt7y36X"
      },
      "outputs": [],
      "source": [
        "# 리스트 내에 있는 모든 요소를 출력하는 함수\n",
        "def print_all_elements(list_):\n",
        "\n",
        "  # 중첨 함수 설계\n",
        "  # 리스트 내부의 각각의 값을 출력하는 기능\n",
        "  def each_elements(list_):\n",
        "    for element in list_:\n",
        "      print(element)\n",
        "\n",
        "  # 리스트가 비어있는 상황에 대한 기능\n",
        "  def isEmpty():\n",
        "    print(\"list is empty!\")\n",
        "\n",
        "  # 기능 처리\n",
        "  if len(list_) > 0:\n",
        "    each_elements(list_)\n",
        "  else:\n",
        "    isEmpty()"
      ]
    },
    {
      "cell_type": "code",
      "source": [
        "list_ = [1,2,3,4,5,6,7]\n",
        "print_all_elements(list_)"
      ],
      "metadata": {
        "colab": {
          "base_uri": "https://localhost:8080/"
        },
        "id": "JWYmBeRmNTQd",
        "outputId": "0b647d62-a1a4-486f-85f7-d3c8ad65ea54"
      },
      "execution_count": null,
      "outputs": [
        {
          "output_type": "stream",
          "name": "stdout",
          "text": [
            "1\n",
            "2\n",
            "3\n",
            "4\n",
            "5\n",
            "6\n",
            "7\n"
          ]
        }
      ]
    },
    {
      "cell_type": "markdown",
      "source": [
        "중첩함수 설계 방법\n",
        "\n",
        "    def 외부함수(피라미터):\n",
        "        실행문\n",
        "        def 내부함수(피라미터):\n",
        "            실행문\n",
        "            return  값\n",
        "        return"
      ],
      "metadata": {
        "id": "0T4IjOVMNm1F"
      }
    },
    {
      "cell_type": "code",
      "source": [
        "# 클로저 함수 만들기\n",
        "def outer(data):\n",
        "  dataSet = data # outer함수의 데이터\n",
        "  # inner\n",
        "  def total():\n",
        "    total_value = sum(dataSet) #sum(묶음)은 해당 데이터의 총 합을 계산해주는 함수입니다.\n",
        "    return total_value\n",
        "  #inner 2\n",
        "  def average(total):\n",
        "    average_value = total / len(dataSet) # 총합 / 데이터 크기 = 평균 값\n",
        "    return average_value\n",
        "\n",
        "  return total, average # 함수의 이름을 return 합니다."
      ],
      "metadata": {
        "id": "P4uRYVJ3Q3bu"
      },
      "execution_count": null,
      "outputs": []
    },
    {
      "cell_type": "code",
      "source": [
        "# 클로저 사용\n",
        "data = [10, 20, 30, 40, 50]\n",
        "\n",
        "# 일급 객체란?\n",
        "# 변수 또는 자료구조를 안에 담을 수 있습니다.\n",
        "# 매개변수로 전달할 수 있어야 합니다.\n",
        "# 리턴 값으로 사용될 수 있어야 합니다.\n",
        "\n",
        "first_object = outer(data)\n",
        "print(first_object)\n",
        "# 함수를 적용한 일급 객체를 출력해보면 해당 객체가 가지고 있는 함수에 대한 정보가 나오게 됩니다.\n",
        "\n",
        "data_total, data_average = outer(data)\n",
        "# 파이썬에서 a,b = c,d의 형태로 코드가 설계됬다면, a = c, b = d로 해석됩니다.\n",
        "# 현재 코드 기준으로는 data_total에 total()기능이, data_average에는 average(total) 기능이 들어가 있습니다.\n",
        "\n",
        "print(data_total())\n",
        "print(data_average)"
      ],
      "metadata": {
        "colab": {
          "base_uri": "https://localhost:8080/"
        },
        "id": "ehZDcs1NSN_n",
        "outputId": "fc08e7ec-b36f-49ce-c709-57235fdf3612"
      },
      "execution_count": null,
      "outputs": [
        {
          "output_type": "stream",
          "name": "stdout",
          "text": [
            "(<function outer.<locals>.total at 0x7c025a576340>, <function outer.<locals>.average at 0x7c025a5776a0>)\n",
            "150\n",
            "<function outer.<locals>.average at 0x7c025a575f80>\n"
          ]
        }
      ]
    },
    {
      "cell_type": "code",
      "source": [
        "print(f\"데이터의 총 합 : {data_total()}\")\n",
        "total_data = data_total()\n",
        "print(f\"데이터의 평균 : {data_average(total_data)}\")"
      ],
      "metadata": {
        "colab": {
          "base_uri": "https://localhost:8080/"
        },
        "id": "--ZEAhAmS7dX",
        "outputId": "4b889b31-f2c6-42e7-92c8-7e5116b36d11"
      },
      "execution_count": null,
      "outputs": [
        {
          "output_type": "stream",
          "name": "stdout",
          "text": [
            "데이터의 총 합 : 150\n",
            "데이터의 평균 : 30.0\n"
          ]
        }
      ]
    },
    {
      "cell_type": "code",
      "source": [
        "# 클로저 사용 시의 유의 사항(변수)\n",
        "\n",
        "global_var = '전역 변수 : 코드 전체에서 사용할 수 있는 변수, 프로그램을 종료해야 삭제되는 데이터'\n",
        "print(global_var)\n",
        "def outer_func():\n",
        "  outer_local_var = '지역 변수 : 함수 내부에서 만들어진 변수로 함수가 사라지면 삭제되는 데이터(outer)'\n",
        "  # print(global_var) # 출력 가능(코드 전체에서 쓸 수 있는 변수를 사용했기 때문)\n",
        "  # print(outer_local_var) # 출력 가능(함수 내에서 쓸 수 있는 변수를 사용했기 때문)\n",
        "\n",
        "  def inner_func():\n",
        "    inner_local_var = '지역 변수 : 함수 내부에서 만들어진 변수로 함수가 사라지면 삭제되는 데이터(inner)'\n",
        "    print(global_var) # 출력 가능(전체)\n",
        "    print(outer_local_var) # 출력 가능 (innerd의 외부 함수에서 만들어진 값)\n",
        "    print(inner_local_var) # 출력 가능 (inner안에서 만들어진 값)\n",
        "\n",
        "  # print(inner_local_var) # 출력 불가 (외부에서는 내부 함수가 정의만 되어있기 때문에 내부 함수에서 설계한 지역 변수 접근 불가)\n",
        "  # inner_func() # 외부 함수에서 내부 항수에 대한 호출을 진행할 수 있습니다.\n",
        "\n",
        "outer_func()\n",
        "#outer_local_var # 함수 내부에 있는 값이기 때문에 사용 불가"
      ],
      "metadata": {
        "colab": {
          "base_uri": "https://localhost:8080/"
        },
        "id": "7pNGnSk6U9gn",
        "outputId": "e69e9c7e-cfdc-4ed3-fc64-d8103c632bed"
      },
      "execution_count": null,
      "outputs": [
        {
          "output_type": "stream",
          "name": "stdout",
          "text": [
            "전역 변수 : 코드 전체에서 사용할 수 있는 변수, 프로그램을 종료해야 삭제되는 데이터\n"
          ]
        }
      ]
    },
    {
      "cell_type": "code",
      "source": [
        "# 클로저 사용 시의 유의 사항 2\n",
        "\n",
        "global_var = 10\n",
        "\n",
        "def outer_func2():\n",
        "  value = 5\n",
        "\n",
        "  def setValue(new_value):\n",
        "    nonlocal value # 이 value는 setValue 안에서 nonlocal 영역의 변수라고 인식합니다.\n",
        "    # nonlocal은 내부 함수를 기준으로 외부 함수에서 만들어진 지역 변수\n",
        "    # 클로저에서 상태를 유지하는 경우\n",
        "    # 중첩 함수 간에 데이터를 공유해야하는 경우레 사용합니다.\n",
        "    value = new_value\n",
        "\n",
        "  def setGlobal(new_value):\n",
        "    global global_var # 이 global_var는 setGlobal 안에서 global영역의 변수라고 인식합니다.\n",
        "    #global은 프로그램 내에서 전역 변수의 영역을 의미합니다.\n",
        "    global_var = new_value\n",
        "\n",
        "  def print_value():\n",
        "      print(value)\n",
        "      print(global_var)\n",
        "\n",
        "  return setValue, setGlobal, print_value\n",
        "\n",
        "first_object, first_object2, first_object3 = outer_func2()\n",
        "first_object(10)\n",
        "first_object2(12)\n",
        "first_object3()\n",
        "print(first_object(10))"
      ],
      "metadata": {
        "colab": {
          "base_uri": "https://localhost:8080/"
        },
        "id": "yHK-wvnnXlVI",
        "outputId": "22ca308c-ad21-4009-98cf-cd4093529629"
      },
      "execution_count": null,
      "outputs": [
        {
          "output_type": "stream",
          "name": "stdout",
          "text": [
            "10\n",
            "12\n",
            "None\n"
          ]
        }
      ]
    },
    {
      "cell_type": "code",
      "source": [
        "money = int(input(\"최초 계좌의 잔액을 입력하세요 >> \"))\n",
        "\n",
        "def Account(money):\n",
        "  m = money\n",
        "\n",
        "  def Getbalance():\n",
        "    result = print(f\"현재 계좌의 잔액은 {m}원입니다.\")\n",
        "    return result\n",
        "\n",
        "  def deposit(m):\n",
        "    a = int(input(\"입금액을 입력하세요 >> \"))\n",
        "    m += a\n",
        "    result = print(f\"{a}원 입금 후 잔액은 {m}원입니다.\")\n",
        "    return result\n",
        "\n",
        "  def withidraw(m):\n",
        "    b = int(input(\"출금액을 입력하세요 >>\"))\n",
        "    m -= b\n",
        "    result = print(f\"{b}원 출금 후 잔액은 {m}원입니다.\")\n",
        "    return result\n",
        "\n",
        "  return Getbalance, deposit, withidraw\n",
        "\n",
        "a, b, c = Account(money)\n",
        "print(a())\n",
        "print(b(money))\n",
        "print(c(money))"
      ],
      "metadata": {
        "colab": {
          "base_uri": "https://localhost:8080/"
        },
        "id": "Hx8YwM2S-KSW",
        "outputId": "225b7b45-61ea-496d-c11b-106ad4fc697e"
      },
      "execution_count": null,
      "outputs": [
        {
          "output_type": "stream",
          "name": "stdout",
          "text": [
            "최초 계좌의 잔액을 입력하세요 >> 50000\n",
            "현재 계좌의 잔액은 50000원입니다.\n",
            "None\n",
            "입금액을 입력하세요 >> 500\n",
            "500원 입금 후 잔액은 50500원입니다.\n",
            "None\n",
            "출금액을 입력하세요 >>8000\n",
            "8000원 출금 후 잔액은 42000원입니다.\n",
            "None\n"
          ]
        }
      ]
    },
    {
      "cell_type": "code",
      "source": [
        "def Account(money):\n",
        "  balance = money #외부에서 money를 전달받아 사용할 계좌의 잔액\n",
        "  def Getbalance():\n",
        "    return balance\n",
        "  def deposit(m):\n",
        "    nonlocal balance\n",
        "    balance += m\n",
        "  def withdraw(m):\n",
        "    nonlocal balance\n",
        "    if (m > balance): #출금은 잔액이 부족하면 더 할 수 없기 때문에 그 기능까지 구현한다면 추가\n",
        "      print(\"잔액이 부족합니다.\")\n",
        "    else:\n",
        "      balance -= m\n",
        "  return Getbalance, deposit, withdraw"
      ],
      "metadata": {
        "id": "ZZEXlWIWC96_"
      },
      "execution_count": null,
      "outputs": []
    },
    {
      "cell_type": "code",
      "source": [
        "money = int(input(\"최초 계좌의 잔액을 입력하세요 >> \"))\n",
        "balance, deposit, withdraw = Account(money)\n",
        "\n",
        "print(f\"현재 계좌의 잔액은 {balance()}원입니다.\")\n",
        "\n",
        "money = int(input(\"입금액을 입력하세요 >> \"))\n",
        "deposit(money)\n",
        "print(f\"{money}원 입금 후 잔액은 {balance()}원입니다.\")\n",
        "\n",
        "money = int(input(\"출금액을 입력하세요 >>\"))\n",
        "withdraw(money)\n",
        "print(f\"{money}원 출금 후 잔액은 {balance()}원입니다.\")"
      ],
      "metadata": {
        "colab": {
          "base_uri": "https://localhost:8080/"
        },
        "id": "z3N7T2puEJeP",
        "outputId": "b2d6b84f-259e-4716-a616-02d67807c293"
      },
      "execution_count": null,
      "outputs": [
        {
          "output_type": "stream",
          "name": "stdout",
          "text": [
            "최초 계좌의 잔액을 입력하세요 >> 500\n",
            "현재 계좌의 잔액은 500원입니다.\n",
            "입금액을 입력하세요 >> 7\n",
            "7원 입금 후 잔액은 507원입니다.\n",
            "출금액을 입력하세요 >>5000000000000\n",
            "잔액이 부족합니다.\n",
            "5000000000000원 출금 후 잔액은 507원입니다.\n"
          ]
        }
      ]
    }
  ]
}