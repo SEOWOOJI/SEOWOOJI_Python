{
  "nbformat": 4,
  "nbformat_minor": 0,
  "metadata": {
    "colab": {
      "provenance": [],
      "authorship_tag": "ABX9TyNFL7z0vtB2TO1bcg0wi4ik",
      "include_colab_link": true
    },
    "kernelspec": {
      "name": "python3",
      "display_name": "Python 3"
    },
    "language_info": {
      "name": "python"
    }
  },
  "cells": [
    {
      "cell_type": "markdown",
      "metadata": {
        "id": "view-in-github",
        "colab_type": "text"
      },
      "source": [
        "<a href=\"https://colab.research.google.com/github/SEOWOOJI/SEOWOOJI_Python/blob/main/2025_01_25_%EC%9E%90%EB%A3%8C%EA%B5%AC%EC%A1%B02.ipynb\" target=\"_parent\"><img src=\"https://colab.research.google.com/assets/colab-badge.svg\" alt=\"Open In Colab\"/></a>"
      ]
    },
    {
      "cell_type": "markdown",
      "source": [
        "# 튜플(tuple)\n",
        "\n",
        "* 튜플명 = ()의 형태로 만듭니다.\n",
        "* 수정이 불가능한 데이터"
      ],
      "metadata": {
        "id": "DiIkqGXPPMIS"
      }
    },
    {
      "cell_type": "code",
      "execution_count": 5,
      "metadata": {
        "id": "SgjtboXrPH6n"
      },
      "outputs": [],
      "source": [
        "t1 = (1,) # 튜플은 값이 1개일 경우에도 ,를 써줘야 함\n",
        "t2 = (1) # 이 경우 그냥 값 1로 처리됩니다.\n",
        "t3 = 1,2,3 # ()를 생략하고 적으면 자동으로 튜플"
      ]
    },
    {
      "cell_type": "code",
      "source": [
        "print(t1)\n",
        "print(t2)\n",
        "print(t3)"
      ],
      "metadata": {
        "colab": {
          "base_uri": "https://localhost:8080/"
        },
        "id": "HU5O0Wm6Pcy4",
        "outputId": "bf8ae43e-161c-4a8b-de73-4a5a0b50c7e1"
      },
      "execution_count": 6,
      "outputs": [
        {
          "output_type": "stream",
          "name": "stdout",
          "text": [
            "(1,)\n",
            "1\n",
            "(1, 2, 3)\n"
          ]
        }
      ]
    },
    {
      "cell_type": "code",
      "source": [
        "t3[0] = 4\n",
        "# 다음과 같이 튜플에 대한 수정이 불가능합니다."
      ],
      "metadata": {
        "colab": {
          "base_uri": "https://localhost:8080/",
          "height": 148
        },
        "id": "aF1SB60qQJzi",
        "outputId": "2693d0c8-fa55-488d-a464-4484697cc4e0"
      },
      "execution_count": 7,
      "outputs": [
        {
          "output_type": "error",
          "ename": "TypeError",
          "evalue": "'tuple' object does not support item assignment",
          "traceback": [
            "\u001b[0;31m---------------------------------------------------------------------------\u001b[0m",
            "\u001b[0;31mTypeError\u001b[0m                                 Traceback (most recent call last)",
            "\u001b[0;32m<ipython-input-7-29fdd2dc2153>\u001b[0m in \u001b[0;36m<cell line: 0>\u001b[0;34m()\u001b[0m\n\u001b[0;32m----> 1\u001b[0;31m \u001b[0mt3\u001b[0m\u001b[0;34m[\u001b[0m\u001b[0;36m0\u001b[0m\u001b[0;34m]\u001b[0m \u001b[0;34m=\u001b[0m \u001b[0;36m4\u001b[0m\u001b[0;34m\u001b[0m\u001b[0;34m\u001b[0m\u001b[0m\n\u001b[0m",
            "\u001b[0;31mTypeError\u001b[0m: 'tuple' object does not support item assignment"
          ]
        }
      ]
    },
    {
      "cell_type": "code",
      "source": [
        "t3 = 1,2,3,4\n",
        "# 이 경우는 t3를 새로운 값으로써 만드는 작업이기에 위의 수정과는 다른 개념"
      ],
      "metadata": {
        "id": "-EKBUv_uQbEH"
      },
      "execution_count": 14,
      "outputs": []
    },
    {
      "cell_type": "code",
      "source": [
        "t4 = t3[:2]\n",
        "print(t4)"
      ],
      "metadata": {
        "colab": {
          "base_uri": "https://localhost:8080/"
        },
        "id": "dvsgRbg6RK64",
        "outputId": "cb1df59f-a380-462d-b86e-96c374c26efe"
      },
      "execution_count": 15,
      "outputs": [
        {
          "output_type": "stream",
          "name": "stdout",
          "text": [
            "(1, 2)\n"
          ]
        }
      ]
    },
    {
      "cell_type": "code",
      "source": [
        "del t3[0] # 불가능 (특정 값에 대한 접근 수정 제거 행위)\n",
        "del t3 # 가능 (전체 데이터 그 자체에 대한 삭제)"
      ],
      "metadata": {
        "colab": {
          "base_uri": "https://localhost:8080/",
          "height": 166
        },
        "id": "KErYaxa7QtS4",
        "outputId": "fa4b4824-0b68-43ba-cf8c-2a2fb9fbe44a"
      },
      "execution_count": 16,
      "outputs": [
        {
          "output_type": "error",
          "ename": "TypeError",
          "evalue": "'tuple' object doesn't support item deletion",
          "traceback": [
            "\u001b[0;31m---------------------------------------------------------------------------\u001b[0m",
            "\u001b[0;31mTypeError\u001b[0m                                 Traceback (most recent call last)",
            "\u001b[0;32m<ipython-input-16-cf8ce3eef805>\u001b[0m in \u001b[0;36m<cell line: 0>\u001b[0;34m()\u001b[0m\n\u001b[0;32m----> 1\u001b[0;31m \u001b[0;32mdel\u001b[0m \u001b[0mt3\u001b[0m\u001b[0;34m[\u001b[0m\u001b[0;36m0\u001b[0m\u001b[0;34m]\u001b[0m \u001b[0;31m# 불가능 (특정 값에 대한 접근 수정 제거 행위)\u001b[0m\u001b[0;34m\u001b[0m\u001b[0;34m\u001b[0m\u001b[0m\n\u001b[0m\u001b[1;32m      2\u001b[0m \u001b[0;32mdel\u001b[0m \u001b[0mt3\u001b[0m \u001b[0;31m# 가능 (전체 데이터 그 자체에 대한 삭제)\u001b[0m\u001b[0;34m\u001b[0m\u001b[0;34m\u001b[0m\u001b[0m\n",
            "\u001b[0;31mTypeError\u001b[0m: 'tuple' object doesn't support item deletion"
          ]
        }
      ]
    },
    {
      "cell_type": "markdown",
      "source": [
        "# 튜플의 사용 목적\n",
        ">> 튜플은 변하지 않는 데이터라는 특징이 있다. 따라서 프로그램에서 수정되는 안되는 핵심 데이터에 대한 설계를 진행하기 좋습니다."
      ],
      "metadata": {
        "id": "UWxE8J1WRidn"
      }
    },
    {
      "cell_type": "markdown",
      "source": [
        "# 딕셔너리(dict)\n",
        "\n",
        "e.g.) 이름 = \"김덕배\" 국가 = \"nation\"처럼 대응 관계로 설명할 수 있는 데이터를 표현하는 리스트와 더불어 가장 많이 사용되는 자료형 중 하나입니다.\n",
        "\n",
        "연관 배열(associative array) 또는 해시(hash)라고도 부릅니다.\n",
        "자바 등에서는 Map이라고 부릅니다."
      ],
      "metadata": {
        "id": "uFeaK0BVSIPw"
      }
    },
    {
      "cell_type": "markdown",
      "source": [
        "# 딕셔너리의 특징\n",
        ">> 키(key) - 값(value) 형태로 구성되어있음\n",
        "* 키\n",
        "      값에 접근하기 위한 데이터 딕셔너리 내부에 키는 고유한 값을 가집니다.\n",
        "* 값\n",
        "      키를 통해 접근한 데이터 딕셔너리 내부에 값은 중복된 값을 가질 수 있습니다.\n",
        "\n",
        ">> 딕셔너리는 리스트나 튜플같은 순차적 데이터(sequential)이 아닙니다. 따라서 인덱스나 슬라이싱을 사용할 수 없습니다.\n"
      ],
      "metadata": {
        "id": "j4ZHjm10TTZw"
      }
    },
    {
      "cell_type": "code",
      "source": [
        "# 딕셔너리 만드는 방법\n",
        "# 딕셔너리명 = {키1 : 값1, 키2 : 값2, ....}\n",
        "\n",
        "dict = {'name' : 'jane','phone' : '010-1234-5678','birth' : 1997}\n",
        "dict2 = {'name' : 'brown','phone' : '010-6666-6666','birth' : 1997}\n",
        "dict3 = {'name' : 'terry','phone' : '010-2783-2187','birth' : 1997}\n",
        "dict4 = {'name' : 'jone','phone' : '010-6798-1231','birth' : 1997}"
      ],
      "metadata": {
        "id": "oLAS5edjRhyH"
      },
      "execution_count": 25,
      "outputs": []
    },
    {
      "cell_type": "code",
      "source": [
        "print(dict['name'])\n",
        "print(dict['birth'])\n",
        "print(dict['phone'])\n",
        "print(dict)"
      ],
      "metadata": {
        "colab": {
          "base_uri": "https://localhost:8080/"
        },
        "id": "bpS6s9vKVPng",
        "outputId": "ac30a38f-6870-4238-a073-0bad59b6c972"
      },
      "execution_count": 21,
      "outputs": [
        {
          "output_type": "stream",
          "name": "stdout",
          "text": [
            "jane\n",
            "1997\n",
            "010-1234-5678\n",
            "{'name': 'jane', 'phone': '010-1234-5678', 'birth': 1997}\n"
          ]
        }
      ]
    },
    {
      "cell_type": "code",
      "source": [
        "import tabulate as tb\n",
        "data = [dict, dict2, dict3, dict4]\n",
        "print(tb.tabulate(data, headers = \"keys\"))\n",
        "# dictionary의 keys를 통해 키의 묶음을 따로 관리"
      ],
      "metadata": {
        "colab": {
          "base_uri": "https://localhost:8080/"
        },
        "id": "onPf22VuVaKI",
        "outputId": "39abee47-7cd5-49ce-b808-4f6798fcdcb7"
      },
      "execution_count": 28,
      "outputs": [
        {
          "output_type": "stream",
          "name": "stdout",
          "text": [
            "name    phone            birth\n",
            "------  -------------  -------\n",
            "jane    010-1234-5678     1997\n",
            "brown   010-6666-6666     1997\n",
            "terry   010-2783-2187     1997\n",
            "jone    010-6798-1231     1997\n"
          ]
        }
      ]
    }
  ]
}