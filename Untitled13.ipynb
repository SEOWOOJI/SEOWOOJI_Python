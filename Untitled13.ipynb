{
  "nbformat": 4,
  "nbformat_minor": 0,
  "metadata": {
    "colab": {
      "provenance": [],
      "authorship_tag": "ABX9TyPOZYRtvfd35DUobOh7SQ6c",
      "include_colab_link": true
    },
    "kernelspec": {
      "name": "python3",
      "display_name": "Python 3"
    },
    "language_info": {
      "name": "python"
    }
  },
  "cells": [
    {
      "cell_type": "markdown",
      "metadata": {
        "id": "view-in-github",
        "colab_type": "text"
      },
      "source": [
        "<a href=\"https://colab.research.google.com/github/SEOWOOJI/SEOWOOJI_Python/blob/main/Untitled13.ipynb\" target=\"_parent\"><img src=\"https://colab.research.google.com/assets/colab-badge.svg\" alt=\"Open In Colab\"/></a>"
      ]
    },
    {
      "cell_type": "markdown",
      "source": [
        "# 2025 - 01 - 13 파이썬 과제"
      ],
      "metadata": {
        "id": "wq3wfcchvqIs"
      }
    },
    {
      "cell_type": "markdown",
      "source": [
        "# 1. 다음 빈칸에 들어갈 단어는 무엇일까요?\n",
        "\n",
        "if문의 조건이 참일 때와 거짓일 때 서로 다른 코드를 실행시키는 구문의 기본 형태는 다음과 같습니다.\n",
        "\n",
        "if 조건식 :\n",
        "\n",
        "    조건식이 참일 때 실행되는 코드\n",
        "\n",
        "else :\n",
        "\n",
        "    조건식이 거짓일 때 실행되는 코드\n"
      ],
      "metadata": {
        "id": "SIhUNUndv7Tt"
      }
    },
    {
      "cell_type": "code",
      "source": [
        "age = 19\n",
        "if age>=19:\n",
        "  print(\"당신은 19세 이상입니다.\")\n",
        "else:\n",
        "  print(\"당신은 19세 미만입니다.\")"
      ],
      "metadata": {
        "colab": {
          "base_uri": "https://localhost:8080/"
        },
        "id": "z8b9ENDVxodc",
        "outputId": "8593c650-8eb0-4fe4-ab7b-6df97b5b9f06"
      },
      "execution_count": 1,
      "outputs": [
        {
          "output_type": "stream",
          "name": "stdout",
          "text": [
            "당신은 19세 이상입니다.\n"
          ]
        }
      ]
    },
    {
      "cell_type": "markdown",
      "source": [
        "당신은 19세 이상입니다."
      ],
      "metadata": {
        "id": "eTmMJVKpxtPk"
      }
    },
    {
      "cell_type": "markdown",
      "source": [
        "문제 풀이 팁 )\n",
        "\n",
        "    출력문을 참고해서 가지고 있는 변수로 조건식을 세워줍니다."
      ],
      "metadata": {
        "id": "W4wq9VI9yEbs"
      }
    },
    {
      "cell_type": "code",
      "source": [
        "score = 87\n",
        "\n",
        "if score >= 70:\n",
        "  print(\"C\")\n",
        "elif score >= 80:\n",
        "  print(\"B\")\n",
        "elif score >= 90:\n",
        "  print(\"A\")\n",
        "else:\n",
        "  print(\"F\")"
      ],
      "metadata": {
        "colab": {
          "base_uri": "https://localhost:8080/"
        },
        "id": "09ebVzUOziht",
        "outputId": "99d72ed2-13c0-4d38-c215-e86de178b310"
      },
      "execution_count": 2,
      "outputs": [
        {
          "output_type": "stream",
          "name": "stdout",
          "text": [
            "C\n"
          ]
        }
      ]
    },
    {
      "cell_type": "markdown",
      "source": [
        "# 문제 원인\n",
        "\n",
        "    해당 코드의 경우 비교 기준에서 가장 작은 값이 맨 위에서 조건으로 체크되고 있습니다. 이 경우라면 값이 80을 넘어도 70보다 큰 조건 \"C\"만 체크될 수 있습니다.\n",
        "\n",
        "    if문이 조건이 elif문의 조건보다 좁아서, elif문을 처리할 수 없습니다."
      ],
      "metadata": {
        "id": "A6WuZHp-0Azc"
      }
    },
    {
      "cell_type": "code",
      "source": [
        "score = 87\n",
        "\n",
        "if score >= 90:\n",
        "  print(\"A\")\n",
        "elif score >= 80:\n",
        "  print(\"B\")\n",
        "elif score >= 70:\n",
        "  print(\"C\")\n",
        "else:\n",
        "  print(\"F\")"
      ],
      "metadata": {
        "colab": {
          "base_uri": "https://localhost:8080/"
        },
        "id": "9Ny6BsQ21slb",
        "outputId": "d0e8f71b-3d73-4b1f-8e91-3d46d4e4e36f"
      },
      "execution_count": 3,
      "outputs": [
        {
          "output_type": "stream",
          "name": "stdout",
          "text": [
            "B\n"
          ]
        }
      ]
    },
    {
      "cell_type": "markdown",
      "source": [
        "# 풀이\n",
        "\n",
        "    범위가 가장 큰 90 이상부터 조건문을 재작성한다."
      ],
      "metadata": {
        "id": "MFMc8ZWN16QL"
      }
    },
    {
      "cell_type": "markdown",
      "source": [
        "# 4. 임의의 정수를 입력받은 뒤 해당 값이 3의 배수인지 아닌지 판단하는 프로그램을 구현하세요.\n",
        "\n",
        "(HINT:3의 배수란 3으로 나눈 나머지가 0인 수를 의미합니다.)\n",
        "\n",
        "    정수를 입력하세요 >>> 14\n",
        "\n",
        "    14는 3의 배수가 아닙니다.\n",
        "\n",
        "    정수를 입력하세요 >>> 15\n",
        "\n",
        "    15는 3의 배수입니다."
      ],
      "metadata": {
        "id": "cW4Vhiml2Ynr"
      }
    },
    {
      "cell_type": "code",
      "source": [
        "n = int(input(\"정수를 입력하세요 >>> \"))\n",
        "if n % 3 == 0:\n",
        "  print(f\"{n}는 3의 배수입니다.\")\n",
        "  # print(\"%d는 3의 배수입니다.\" %n)\n",
        "else:\n",
        "  print(f\"{n}는 3의 배수가 아닙니다.\")"
      ],
      "metadata": {
        "colab": {
          "base_uri": "https://localhost:8080/"
        },
        "id": "OBlwnAQW38XT",
        "outputId": "06cc2659-e133-4439-dc93-f4254b30b444"
      },
      "execution_count": 5,
      "outputs": [
        {
          "output_type": "stream",
          "name": "stdout",
          "text": [
            "정수를 입력하세요 >>> 15\n",
            "15는 3의 배수입니다.\n"
          ]
        }
      ]
    },
    {
      "cell_type": "markdown",
      "source": [
        "# 문제 분석\n",
        "\n",
        "1. 변수 : 임의의 정수 (n)\n",
        "\n",
        "        변수의 값은 입력으로 전달받아 사용합니다.\n",
        "\n",
        "2. 조건 : 3의 배수인지 판단\n",
        "    \n",
        "        3의 배수가 아닌 경우 n은 3의 배수가 아닙니다.\n",
        "\n",
        "        3의 배수인 경우 n은 3의 배수입니다.\n",
        "\n",
        "구현 문법 : input(), if"
      ],
      "metadata": {
        "id": "GfHwN-5a3C2D"
      }
    },
    {
      "cell_type": "markdown",
      "source": [
        "# 5. 미세먼지 저감 활동의 일환으로 차량 2부제를 실시하고자 합니다, 사용자로부터 차량번호를 입력받아 차량번호가 짝수로 끝나면 '운행 가능' , 아니면 '운행불가'를 출력하는 프로그램을 구현하세요.\n",
        "\n",
        "\n",
        "    차량번호를 입력하세요 >>> 23버 3069\n",
        "    오늘 운행이 불가능합니다."
      ],
      "metadata": {
        "id": "Aevjnk2F7806"
      }
    },
    {
      "cell_type": "code",
      "source": [
        "car_number = input(\"차량번호를 입력해주세요 >> \")\n",
        "if car_number[-1].isdigit():\n",
        "  if int(car_number[-1]) % 2 == 0:\n",
        "    print(\"오늘 운행이 가능합니다.\")\n",
        "  else:\n",
        "    print(\"오늘 운행이 불가능합니다.\")"
      ],
      "metadata": {
        "colab": {
          "base_uri": "https://localhost:8080/"
        },
        "id": "PBpGmJXE8Qb7",
        "outputId": "13f7ab3e-c64b-45f4-e0e3-443acc584681"
      },
      "execution_count": 8,
      "outputs": [
        {
          "output_type": "stream",
          "name": "stdout",
          "text": [
            "차량번호를 입력해주세요 >> 23버 3069\n",
            "오늘 운행이 불가능합니다.\n"
          ]
        }
      ]
    },
    {
      "cell_type": "markdown",
      "source": [
        "1. 문자열.isdigit()는 string에서 제공해주는 메소드(함수)입니다.\n",
        "\n",
        "        기능 : 해당 문자열이 '숫자'로만 이루어져있는지를 확인할 수 있으며, 숫자인 경우 True 아니면 False를 return합니다.\n",
        "\n",
        "2. 인덱스 번호가 음수 번호인 경우 -1은 가장 마지막 값을 의미합니다.\n",
        "\n",
        "        양수 인덱스 번호 범위 : 0부터 길이 -1\n",
        "        음수 인덱스 번호 범위 : -1부터 - 길이\n",
        "\n",
        "10, 11, 12, 13 등은 편의상 0,1,2,3으로 작성\n",
        "\n",
        "e.g.) \"HAPPY  NEW  YEAR\"\n",
        "\n",
        "    양의 인덱스 :  0 1 2 3 4 5 6 7 8 9 10 11 12 13\n",
        "    음의 인덱스 : -14, -13, -12, -11, -10, -9, -8, -7, -6, -5, -4, -3, -2, -1"
      ],
      "metadata": {
        "id": "HJ0N7Zus9ov7"
      }
    },
    {
      "cell_type": "code",
      "source": [
        "car_number = input(\"차량번호를 입력해주세요 >> \")\n",
        "car_number.split(\" \")\n",
        "\n",
        "if int(car_number[:2]) % 2 == 0:\n",
        "  print(\"오늘 운행 가능합니다.\")\n",
        "else:\n",
        "  print(\"오늘 운행 불가능합니다.\")"
      ],
      "metadata": {
        "colab": {
          "base_uri": "https://localhost:8080/"
        },
        "id": "w1DcoNmL9NIL",
        "outputId": "a57fbaa5-dd78-49a6-f6d6-765f28cfa8e3"
      },
      "execution_count": 11,
      "outputs": [
        {
          "output_type": "stream",
          "name": "stdout",
          "text": [
            "차량번호를 입력해주세요 >> 23버 3069\n",
            "오늘 운행 불가능합니다.\n"
          ]
        }
      ]
    },
    {
      "cell_type": "markdown",
      "source": [
        "# 6. 다음 중 파이썬에서 반복문의 흐름을 제어할 수 있는 키워드 2가지는 무엇일까요?  ( 1 , 2 )\n",
        "\n",
        "① break\n",
        "\n",
        "② continue\n",
        "\n",
        "③ int\n",
        "\n",
        "④ float\n",
        "\n",
        "풀이 :\n",
        "\n",
        "    int, float는 데이터 타입"
      ],
      "metadata": {
        "id": "qpR3mlL0Cb_a"
      }
    },
    {
      "cell_type": "markdown",
      "source": [
        "# 7. 정수를 입력받아서 그 횟수만큼의 숫자와 'Hello'를 출력하는 프로그램을 구현하세요. 0 이하의 값이 입력되면 '잘못된 입력입니다.'라는 메세지를 출력하세요.\n",
        "\n",
        "출력 예시)\n",
        "\n",
        "  정수를 입력하세요 >>> 3\n",
        "\n",
        "        1 Hello\n",
        "        2 Hello\n",
        "        3 Hello\n",
        "  정수를 입력하세요 >>> -5\n",
        "  \n",
        "        잘못된 입력입니다."
      ],
      "metadata": {
        "id": "0Hpm43JUDUIy"
      }
    },
    {
      "cell_type": "code",
      "source": [
        "n = int(input(\"정수를 입력하세요 >>> \"))\n",
        "\n",
        "if n >= 0 :\n",
        "  for i in range(n):\n",
        "    print(f\"{i+1} Hello\")\n",
        "else:\n",
        "  print(\"잘못된 입력입니다.\")"
      ],
      "metadata": {
        "colab": {
          "base_uri": "https://localhost:8080/"
        },
        "id": "d1Zg8uiWEGAy",
        "outputId": "1bc9f2b3-0183-41ca-99ad-d5e2b0e33b4a"
      },
      "execution_count": 13,
      "outputs": [
        {
          "output_type": "stream",
          "name": "stdout",
          "text": [
            "정수를 입력하세요 >>> 3\n",
            "1 Hello\n",
            "2 Hello\n",
            "3 Hello\n"
          ]
        }
      ]
    },
    {
      "cell_type": "markdown",
      "source": [
        "# 문제 분석\n",
        "1.    입력 값 n\n",
        "2.    횟수만큼 메세지 출력\n",
        "3.    0이하의 값 입력 시 메세지 출력\n",
        "\n",
        "반복문 while, for문, input() 활용"
      ],
      "metadata": {
        "id": "VYm17pg-Dpmi"
      }
    },
    {
      "cell_type": "markdown",
      "source": [
        "# 8. 영화 평점을 1부터 5 사이의 정수로 입력받아서 해당 평점만큼 ★을 표시하는 프로그램을 구현하세요. 표시할 수 있는 평점의 범위를 벗어나면 재입력을 요구하세요.\n",
        "\n",
        "이번 영화의 평점을 입력하세요 >>> 10\n",
        "\n",
        "        평점은 1~5 사이만 입력이 가능합니다.\n",
        "\n",
        "이번 영화의 평점을 입력하세요 >>> 5\n",
        "\n",
        "        평점 : ★★★★★"
      ],
      "metadata": {
        "id": "QOYJ6X6tE3WJ"
      }
    },
    {
      "cell_type": "code",
      "source": [
        "while True:\n",
        "    rating = int(input('이번 영화의 평점을 입력하세요 >>> '))\n",
        "    if rating >= 1 and rating <= 5:\n",
        "      print(f\"평점 : {'★' * rating}\")\n",
        "      # print('평점', 'end = ':')\n",
        "      # for i in range(rating):\n",
        "      #     print(\"★\",end = '')\n",
        "      break\n",
        "    else:\n",
        "      print(\"평점은 1~5 사이만 입력이 가능합니다.\")"
      ],
      "metadata": {
        "colab": {
          "base_uri": "https://localhost:8080/"
        },
        "id": "uPugUlTiFxD5",
        "outputId": "fff1d5d4-d69c-45ba-c804-af340d2592a2"
      },
      "execution_count": 15,
      "outputs": [
        {
          "output_type": "stream",
          "name": "stdout",
          "text": [
            "이번 영화의 평점을 입력하세요 >>> 3\n",
            "평점 : ★★★\n"
          ]
        }
      ]
    },
    {
      "cell_type": "markdown",
      "source": [
        "print(f\"평점 : {'★' * rating}\")의 경우는 {}안에 데이터를 따로 적을 수 있는 f - string의 활용과 문자열에 *(곱하기)를 진행하면 그 수만큼 문장이 복사됨을 활용한 코드입니다.\n",
        "\n",
        "일반적인 경우라면\n",
        "\n",
        "    print(\"평점\", end = \":\")\n",
        "    for i in range(rating):\n",
        "        print(\"★\",end = '')\n",
        "\n",
        "처럼 for 문을 이용해 따로 설계하는 편입니다.\n"
      ],
      "metadata": {
        "id": "smIqmqW9HY9h"
      }
    },
    {
      "cell_type": "markdown",
      "source": [
        "# 문제 분석\n",
        "\n",
        "1.     입력하는 값 : 영화 평점\n",
        "2.     범위(1-5)\n",
        "\n",
        "        범위 이탈 시 재입력(조건문)\n",
        "        밤위 맞으면 평점 출력 후 종료\n",
        "\n",
        "사용 문법 : input(), while 문, if 문"
      ],
      "metadata": {
        "id": "qIRRdegUFIqy"
      }
    },
    {
      "cell_type": "markdown",
      "source": [
        "# 9. 다음 코드는 컴파일 에러가 발생합니다. 발생하는 이유와 해결 방법을 작성하세요."
      ],
      "metadata": {
        "id": "8moBbW8yKjoJ"
      }
    },
    {
      "cell_type": "code",
      "source": [
        "nums = [1,2,3,4,5]\n",
        "\n",
        "for n in range(8):\n",
        "  print(nums[n])"
      ],
      "metadata": {
        "colab": {
          "base_uri": "https://localhost:8080/",
          "height": 276
        },
        "id": "0j5efwSeLKbp",
        "outputId": "fbcbeb85-ebad-41cb-be27-fc08654bfe13"
      },
      "execution_count": 21,
      "outputs": [
        {
          "output_type": "stream",
          "name": "stdout",
          "text": [
            "1\n",
            "2\n",
            "3\n",
            "4\n",
            "5\n"
          ]
        },
        {
          "output_type": "error",
          "ename": "IndexError",
          "evalue": "list index out of range",
          "traceback": [
            "\u001b[0;31m---------------------------------------------------------------------------\u001b[0m",
            "\u001b[0;31mIndexError\u001b[0m                                Traceback (most recent call last)",
            "\u001b[0;32m<ipython-input-21-3fc30d83d44f>\u001b[0m in \u001b[0;36m<cell line: 0>\u001b[0;34m()\u001b[0m\n\u001b[1;32m      2\u001b[0m \u001b[0;34m\u001b[0m\u001b[0m\n\u001b[1;32m      3\u001b[0m \u001b[0;32mfor\u001b[0m \u001b[0mn\u001b[0m \u001b[0;32min\u001b[0m \u001b[0mrange\u001b[0m\u001b[0;34m(\u001b[0m\u001b[0;36m8\u001b[0m\u001b[0;34m)\u001b[0m\u001b[0;34m:\u001b[0m\u001b[0;34m\u001b[0m\u001b[0;34m\u001b[0m\u001b[0m\n\u001b[0;32m----> 4\u001b[0;31m   \u001b[0mprint\u001b[0m\u001b[0;34m(\u001b[0m\u001b[0mnums\u001b[0m\u001b[0;34m[\u001b[0m\u001b[0mn\u001b[0m\u001b[0;34m]\u001b[0m\u001b[0;34m)\u001b[0m\u001b[0;34m\u001b[0m\u001b[0;34m\u001b[0m\u001b[0m\n\u001b[0m",
            "\u001b[0;31mIndexError\u001b[0m: list index out of range"
          ]
        }
      ]
    },
    {
      "cell_type": "markdown",
      "source": [
        "nums는 1,2,3,4,5개의 정수를 순서대로 저장하고 있는 리스트입니다.\n",
        "\n",
        "nums의 인덱스의 범위는 0부터 4까지 입니다.\n",
        "\n",
        "인덱스의 범위 == 0 ~ 묶음의 길이 -1"
      ],
      "metadata": {
        "id": "PY_GKp4zLNkJ"
      }
    },
    {
      "cell_type": "code",
      "source": [
        "nums = [1,2,3,4,5]\n",
        "\n",
        "for n in range(5):\n",
        "  print(nums[n])"
      ],
      "metadata": {
        "colab": {
          "base_uri": "https://localhost:8080/"
        },
        "id": "ENalZ3gIK3aQ",
        "outputId": "1168bc87-1841-467d-fd74-51d80a517e64"
      },
      "execution_count": 20,
      "outputs": [
        {
          "output_type": "stream",
          "name": "stdout",
          "text": [
            "1\n",
            "2\n",
            "3\n",
            "4\n",
            "5\n"
          ]
        }
      ]
    },
    {
      "cell_type": "markdown",
      "source": [
        "# 10. 사용자로부터 임의의 양의 정수를 하나 입력받은 뒤, 1부터 입력받은 정수까지 모든 정수의 합계를 출력하는 프로그램을 구현하세요."
      ],
      "metadata": {
        "id": "box9eJOrLZYp"
      }
    },
    {
      "cell_type": "markdown",
      "source": [
        "임의의 양수를 입력하세요 >>> 5\n",
        "\n",
        "    1부터 5 사이 모든 정수의 합계는 15입니다."
      ],
      "metadata": {
        "id": "-m_DuIynLd2R"
      }
    },
    {
      "cell_type": "code",
      "source": [
        "n = int(input(\"임의의 정수를 입력하세요 >>> \"))\n",
        "result = 0 # 정수의 합\n",
        "\n",
        "for i in range(1, n+1):\n",
        "  result += i\n",
        "\n",
        "print(f\"{1}부터 {n} 사이 모든 정수의 합계는 {result}입니다.\")"
      ],
      "metadata": {
        "colab": {
          "base_uri": "https://localhost:8080/"
        },
        "id": "u-HnIzXjL9TJ",
        "outputId": "28fa8b75-f257-44ce-ed74-f6952765fda6"
      },
      "execution_count": 22,
      "outputs": [
        {
          "output_type": "stream",
          "name": "stdout",
          "text": [
            "임의의 정수를 입력하세요 >>> 7\n",
            "1부터 7 사이 모든 정수의 합계는 28입니다.\n"
          ]
        }
      ]
    },
    {
      "cell_type": "markdown",
      "source": [
        "# 문제 분석\n",
        "\n",
        "1.  양의 정수(입력)\n",
        "2.  1부터 입력받은 정수까지(범위)\n",
        "3.  결과물 : 정수의 합계\n",
        "\n",
        "사용 문법 : range(), input()\n",
        "\n",
        "range(시작, 끝) 시작 부분부터 끝 -1까지의 범위를 가지게 된다."
      ],
      "metadata": {
        "id": "KSULB19lLofB"
      }
    }
  ]
}