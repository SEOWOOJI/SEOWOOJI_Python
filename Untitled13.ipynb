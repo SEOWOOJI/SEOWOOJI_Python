{
  "nbformat": 4,
  "nbformat_minor": 0,
  "metadata": {
    "colab": {
      "provenance": [],
      "authorship_tag": "ABX9TyMaCYwPIc4MVogkh+sErhne",
      "include_colab_link": true
    },
    "kernelspec": {
      "name": "python3",
      "display_name": "Python 3"
    },
    "language_info": {
      "name": "python"
    }
  },
  "cells": [
    {
      "cell_type": "markdown",
      "metadata": {
        "id": "view-in-github",
        "colab_type": "text"
      },
      "source": [
        "<a href=\"https://colab.research.google.com/github/SEOWOOJI/SEOWOOJI_Python/blob/main/Untitled13.ipynb\" target=\"_parent\"><img src=\"https://colab.research.google.com/assets/colab-badge.svg\" alt=\"Open In Colab\"/></a>"
      ]
    },
    {
      "cell_type": "markdown",
      "source": [
        "# 2025 - 01 - 13 파이썬 과제"
      ],
      "metadata": {
        "id": "wq3wfcchvqIs"
      }
    },
    {
      "cell_type": "markdown",
      "source": [
        "# 1. 다음 빈칸에 들어갈 단어는 무엇일까요?\n",
        "\n",
        "if문의 조건이 참일 때와 거짓일 때 서로 다른 코드를 실행시키는 구문의 기본 형태는 다음과 같습니다.\n",
        "\n",
        "if 조건식 :\n",
        "\n",
        "    조건식이 참일 때 실행되는 코드\n",
        "\n",
        "else :\n",
        "\n",
        "    조건식이 거짓일 때 실행되는 코드\n"
      ],
      "metadata": {
        "id": "SIhUNUndv7Tt"
      }
    },
    {
      "cell_type": "code",
      "source": [
        "age = 19\n",
        "if age>=19:\n",
        "  print(\"당신은 19세 이상입니다.\")\n",
        "else:\n",
        "  print(\"당신은 19세 미만입니다.\")"
      ],
      "metadata": {
        "colab": {
          "base_uri": "https://localhost:8080/"
        },
        "id": "z8b9ENDVxodc",
        "outputId": "8593c650-8eb0-4fe4-ab7b-6df97b5b9f06"
      },
      "execution_count": 1,
      "outputs": [
        {
          "output_type": "stream",
          "name": "stdout",
          "text": [
            "당신은 19세 이상입니다.\n"
          ]
        }
      ]
    },
    {
      "cell_type": "markdown",
      "source": [
        "당신은 19세 이상입니다."
      ],
      "metadata": {
        "id": "eTmMJVKpxtPk"
      }
    },
    {
      "cell_type": "markdown",
      "source": [
        "문제 풀이 팁 )\n",
        "\n",
        "    출력문을 참고해서 가지고 있는 변수로 조건식을 세워줍니다."
      ],
      "metadata": {
        "id": "W4wq9VI9yEbs"
      }
    },
    {
      "cell_type": "code",
      "source": [
        "score = 87\n",
        "\n",
        "if score >= 70:\n",
        "  print(\"C\")\n",
        "elif score >= 80:\n",
        "  print(\"B\")\n",
        "elif score >= 90:\n",
        "  print(\"A\")\n",
        "else:\n",
        "  print(\"F\")"
      ],
      "metadata": {
        "colab": {
          "base_uri": "https://localhost:8080/"
        },
        "id": "09ebVzUOziht",
        "outputId": "99d72ed2-13c0-4d38-c215-e86de178b310"
      },
      "execution_count": 2,
      "outputs": [
        {
          "output_type": "stream",
          "name": "stdout",
          "text": [
            "C\n"
          ]
        }
      ]
    },
    {
      "cell_type": "markdown",
      "source": [
        "# 문제 원인\n",
        "\n",
        "    해당 코드의 경우 비교 기준에서 가장 작은 값이 맨 위에서 조건으로 체크되고 있습니다. 이 경우라면 값이 80을 넘어도 70보다 큰 조건 \"C\"만 체크될 수 있습니다.\n",
        "\n",
        "    if문이 조건이 elif문의 조건보다 좁아서, elif문을 처리할 수 없습니다."
      ],
      "metadata": {
        "id": "A6WuZHp-0Azc"
      }
    },
    {
      "cell_type": "code",
      "source": [
        "score = 87\n",
        "\n",
        "if score >= 90:\n",
        "  print(\"A\")\n",
        "elif score >= 80:\n",
        "  print(\"B\")\n",
        "elif score >= 70:\n",
        "  print(\"C\")\n",
        "else:\n",
        "  print(\"F\")"
      ],
      "metadata": {
        "colab": {
          "base_uri": "https://localhost:8080/"
        },
        "id": "9Ny6BsQ21slb",
        "outputId": "d0e8f71b-3d73-4b1f-8e91-3d46d4e4e36f"
      },
      "execution_count": 3,
      "outputs": [
        {
          "output_type": "stream",
          "name": "stdout",
          "text": [
            "B\n"
          ]
        }
      ]
    },
    {
      "cell_type": "markdown",
      "source": [
        "# 풀이\n",
        "\n",
        "    범위가 가장 큰 90 이상부터 조건문을 재작성한다."
      ],
      "metadata": {
        "id": "MFMc8ZWN16QL"
      }
    },
    {
      "cell_type": "markdown",
      "source": [
        "# 4. 임의의 정수를 입력받은 뒤 해당 값이 3의 배수인지 아닌지 판단하는 프로그램을 구현하세요.\n",
        "\n",
        "(HINT:3의 배수란 3으로 나눈 나머지가 0인 수를 의미합니다.)\n",
        "\n",
        "    정수를 입력하세요 >>> 14\n",
        "\n",
        "    14는 3의 배수가 아닙니다.\n",
        "\n",
        "    정수를 입력하세요 >>> 15\n",
        "\n",
        "    15는 3의 배수입니다."
      ],
      "metadata": {
        "id": "cW4Vhiml2Ynr"
      }
    },
    {
      "cell_type": "markdown",
      "source": [
        "# 문제 분석\n",
        "\n",
        "1. 변수 : 임의의 정수 (n)\n",
        "\n",
        "        변수의 값은 입력으로 전달받아 사용합니다.\n",
        "\n",
        "2. 조건 : 3의 배수인지 판단\n",
        "    \n",
        "        3의 배수가 아닌 경우 n은 3의 배수가 아닙니다.\n",
        "\n",
        "        3의 배수인 경우 n은 3의 배수입니다.\n",
        "\n",
        "구현 문법 : input(), if"
      ],
      "metadata": {
        "id": "GfHwN-5a3C2D"
      }
    },
    {
      "cell_type": "code",
      "source": [
        "n = int(input(\"정수를 입력하세요 >>> \"))\n",
        "if n % 3 == 0:\n",
        "  print(f\"{n}는 3의 배수입니다.\")\n",
        "  # print(\"%d는 3의 배수입니다.\" %n)\n",
        "else:\n",
        "  print(f\"{n}는 3의 배수가 아닙니다.\")"
      ],
      "metadata": {
        "colab": {
          "base_uri": "https://localhost:8080/"
        },
        "id": "OBlwnAQW38XT",
        "outputId": "06cc2659-e133-4439-dc93-f4254b30b444"
      },
      "execution_count": 5,
      "outputs": [
        {
          "output_type": "stream",
          "name": "stdout",
          "text": [
            "정수를 입력하세요 >>> 15\n",
            "15는 3의 배수입니다.\n"
          ]
        }
      ]
    }
  ]
}