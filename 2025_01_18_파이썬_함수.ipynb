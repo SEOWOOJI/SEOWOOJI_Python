{
  "nbformat": 4,
  "nbformat_minor": 0,
  "metadata": {
    "colab": {
      "provenance": [],
      "authorship_tag": "ABX9TyPOMfcTdsYCG4opUbcaDQ98",
      "include_colab_link": true
    },
    "kernelspec": {
      "name": "python3",
      "display_name": "Python 3"
    },
    "language_info": {
      "name": "python"
    }
  },
  "cells": [
    {
      "cell_type": "markdown",
      "metadata": {
        "id": "view-in-github",
        "colab_type": "text"
      },
      "source": [
        "<a href=\"https://colab.research.google.com/github/SEOWOOJI/SEOWOOJI_Python/blob/main/2025_01_18_%ED%8C%8C%EC%9D%B4%EC%8D%AC_%ED%95%A8%EC%88%98.ipynb\" target=\"_parent\"><img src=\"https://colab.research.google.com/assets/colab-badge.svg\" alt=\"Open In Colab\"/></a>"
      ]
    },
    {
      "cell_type": "markdown",
      "source": [
        "# 파이썬 함수\n",
        "함수는 호출을 통해 특정 하나의 기능을 수행하는 명령 집합체입니다.\n",
        "\n",
        "e.g.) 믹서기의 역할은 무엇입니까?\n",
        "\n",
        "    어떠한 것을 넣고 갈아서 결과물을 만드는 도구\n",
        "\n",
        "여기서 어떠한 것은 입력 값  \n",
        "믹서는 기능(함수)  \n",
        "출력 결과는 결과 값이라고 부를 수 있습니다.\n",
        "\n",
        "e.g.) y = 2x + 3 이라고 할 때, x가 1이라면 y의 값은? 5  \n",
        "x가 2 라면? 7"
      ],
      "metadata": {
        "id": "50iu4XQIRDno"
      }
    },
    {
      "cell_type": "code",
      "execution_count": null,
      "metadata": {
        "id": "cuR1K85_Qfdi"
      },
      "outputs": [],
      "source": [
        "def explust(x):\n",
        "  return 2*x + 3"
      ]
    },
    {
      "cell_type": "code",
      "source": [
        "explust(1)"
      ],
      "metadata": {
        "colab": {
          "base_uri": "https://localhost:8080/"
        },
        "id": "Gh6A6J-eTM8I",
        "outputId": "d3b9b636-c93f-46c9-9cd0-281659ecf23d"
      },
      "execution_count": null,
      "outputs": [
        {
          "output_type": "execute_result",
          "data": {
            "text/plain": [
              "5"
            ]
          },
          "metadata": {},
          "execution_count": 2
        }
      ]
    },
    {
      "cell_type": "code",
      "source": [
        "explust(2)"
      ],
      "metadata": {
        "colab": {
          "base_uri": "https://localhost:8080/"
        },
        "id": "m_DeFgdbTutv",
        "outputId": "3e2a23cb-6b3a-43f7-c8f7-308b28229658"
      },
      "execution_count": null,
      "outputs": [
        {
          "output_type": "execute_result",
          "data": {
            "text/plain": [
              "7"
            ]
          },
          "metadata": {},
          "execution_count": 3
        }
      ]
    },
    {
      "cell_type": "markdown",
      "source": [
        "# 매개변수와 인수\n",
        "---\n",
        "매개변수(parameter) : 함수에 입력으로 전달된 값을 받는 변수\n",
        "\n",
        "e.g.) def add(a,b): # a와 b가 매개변수\n",
        "        return a + b\n",
        "\n",
        "인수(arguments) : 함수를 호출할 때 전달하는 입력 값(value)\n",
        "\n",
        "e.g.) 위의 add(a,b)를 다음과 같이 호출합니다.\n",
        "add(1,5) 이 때, 1과 5가 add함수에 전달할 인자입니다.\n",
        "\n",
        "    용어적으로 자주 헷갈릴 수 있는 용어\n",
        "    입력값 --> 인수, 피라미터, 매개변수\n",
        "    리턴값 --> 결괏값, 출력값, 반환값\n",
        "    위에서 작성한 뜻으로 정확하게 기억합니다."
      ],
      "metadata": {
        "id": "Ys_41gbU4vEQ"
      }
    },
    {
      "cell_type": "markdown",
      "source": [
        "# 함수의 기본 형태\n",
        "---\n",
        "1) 매개변수를 요구하는 함수\n",
        ">> 해당 함수를 호출하는 경우 반드시 매개변수에 해당하는 값(인자)를 넣어서 호출합니다.\n",
        "\n",
        "    def 함수의 이름(매개변수):\n",
        "    함수를 호출했을 때 실행할 코드 작성 영역\n",
        "    ...\n",
        "    return 값\n",
        "\n",
        "2) 매개변수를 요구하지 않는 함수\n",
        ">> 해당함수를 호출할 경우에는 전달해주는 값 없이 바로 사용할 수 있습니다.\n",
        "\n",
        "    def함수의 이름():\n",
        "    함수를 호출했을 때 실행할 코드 작성 영역\n",
        "    ...\n",
        "    return 값\n",
        "\n",
        "3) 리턴이 없는 함수\n",
        ">> 해당 함수에는 리턴값이 따로 없습니다.\n",
        "\n",
        "    def 함수의 이름():\n",
        "    함수를 호출했을 때 실행할 코드 작성 영역\n",
        "\n",
        "4) 매개변수를 요구하지 않는 리턴이 없는 함수\n",
        ">> 해당 함수에는 매개변수와 리턴값이 따로 없습니다.\n",
        "\n",
        "    def 함수의 이름():\n",
        "    함수를 호출했을 때 실행할 코드 작성 영역\n",
        "    "
      ],
      "metadata": {
        "id": "j5dWRX2e6-eo"
      }
    }
  ]
}