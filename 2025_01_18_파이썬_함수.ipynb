{
  "nbformat": 4,
  "nbformat_minor": 0,
  "metadata": {
    "colab": {
      "provenance": [],
      "authorship_tag": "ABX9TyMZQoe3Madc0ztChdhOskxq",
      "include_colab_link": true
    },
    "kernelspec": {
      "name": "python3",
      "display_name": "Python 3"
    },
    "language_info": {
      "name": "python"
    }
  },
  "cells": [
    {
      "cell_type": "markdown",
      "metadata": {
        "id": "view-in-github",
        "colab_type": "text"
      },
      "source": [
        "<a href=\"https://colab.research.google.com/github/SEOWOOJI/SEOWOOJI_Python/blob/main/2025_01_18_%ED%8C%8C%EC%9D%B4%EC%8D%AC_%ED%95%A8%EC%88%98.ipynb\" target=\"_parent\"><img src=\"https://colab.research.google.com/assets/colab-badge.svg\" alt=\"Open In Colab\"/></a>"
      ]
    },
    {
      "cell_type": "markdown",
      "source": [
        "# 파이썬 함수\n",
        "함수는 호출을 통해 특정 하나의 기능을 수행하는 명령 집합체입니다.\n",
        "\n",
        "e.g.) 믹서기의 역할은 무엇입니까?\n",
        "\n",
        "    어떠한 것을 넣고 갈아서 결과물을 만드는 도구\n",
        "\n",
        "여기서 어떠한 것은 입력 값  \n",
        "믹서는 기능(함수)  \n",
        "출력 결과는 결과 값이라고 부를 수 있습니다.\n",
        "\n",
        "e.g.) y = 2x + 3 이라고 할 때, x가 1이라면 y의 값은? 5  \n",
        "x가 2 라면? 7"
      ],
      "metadata": {
        "id": "50iu4XQIRDno"
      }
    },
    {
      "cell_type": "code",
      "execution_count": 1,
      "metadata": {
        "id": "cuR1K85_Qfdi"
      },
      "outputs": [],
      "source": [
        "def explust(x):\n",
        "  return 2*x + 3"
      ]
    },
    {
      "cell_type": "code",
      "source": [
        "explust(1)"
      ],
      "metadata": {
        "colab": {
          "base_uri": "https://localhost:8080/"
        },
        "id": "Gh6A6J-eTM8I",
        "outputId": "d3b9b636-c93f-46c9-9cd0-281659ecf23d"
      },
      "execution_count": 2,
      "outputs": [
        {
          "output_type": "execute_result",
          "data": {
            "text/plain": [
              "5"
            ]
          },
          "metadata": {},
          "execution_count": 2
        }
      ]
    },
    {
      "cell_type": "code",
      "source": [
        "explust(2)"
      ],
      "metadata": {
        "colab": {
          "base_uri": "https://localhost:8080/"
        },
        "id": "m_DeFgdbTutv",
        "outputId": "3e2a23cb-6b3a-43f7-c8f7-308b28229658"
      },
      "execution_count": 3,
      "outputs": [
        {
          "output_type": "execute_result",
          "data": {
            "text/plain": [
              "7"
            ]
          },
          "metadata": {},
          "execution_count": 3
        }
      ]
    }
  ]
}