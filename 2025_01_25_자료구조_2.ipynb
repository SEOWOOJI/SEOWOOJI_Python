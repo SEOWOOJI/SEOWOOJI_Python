{
  "nbformat": 4,
  "nbformat_minor": 0,
  "metadata": {
    "colab": {
      "provenance": [],
      "name": "2025_01_25_자료구조-2.ipynb",
      "authorship_tag": "ABX9TyODQgbltWk751UWcMyaBuHB",
      "include_colab_link": true
    },
    "kernelspec": {
      "name": "python3",
      "display_name": "Python 3"
    },
    "language_info": {
      "name": "python"
    }
  },
  "cells": [
    {
      "cell_type": "markdown",
      "metadata": {
        "id": "view-in-github",
        "colab_type": "text"
      },
      "source": [
        "<a href=\"https://colab.research.google.com/github/SEOWOOJI/SEOWOOJI_Python/blob/main/2025_01_25_%EC%9E%90%EB%A3%8C%EA%B5%AC%EC%A1%B0_2.ipynb\" target=\"_parent\"><img src=\"https://colab.research.google.com/assets/colab-badge.svg\" alt=\"Open In Colab\"/></a>"
      ]
    },
    {
      "cell_type": "markdown",
      "source": [
        "# 튜플(tuple)\n",
        "\n",
        "* 튜플명 = ()의 형태로 만듭니다.\n",
        "* 수정이 불가능한 데이터"
      ],
      "metadata": {
        "id": "DiIkqGXPPMIS"
      }
    },
    {
      "cell_type": "code",
      "execution_count": null,
      "metadata": {
        "id": "SgjtboXrPH6n"
      },
      "outputs": [],
      "source": [
        "t1 = (1,) # 튜플은 값이 1개일 경우에도 ,를 써줘야 함\n",
        "t2 = (1) # 이 경우 그냥 값 1로 처리됩니다.\n",
        "t3 = 1,2,3 # ()를 생략하고 적으면 자동으로 튜플"
      ]
    },
    {
      "cell_type": "code",
      "source": [
        "print(t1)\n",
        "print(t2)\n",
        "print(t3)"
      ],
      "metadata": {
        "colab": {
          "base_uri": "https://localhost:8080/"
        },
        "id": "HU5O0Wm6Pcy4",
        "outputId": "c1e8ade2-fbd3-43d9-830d-f5826e55184b"
      },
      "execution_count": null,
      "outputs": [
        {
          "output_type": "stream",
          "name": "stdout",
          "text": [
            "(1,)\n",
            "1\n",
            "(1, 2, 3)\n"
          ]
        }
      ]
    },
    {
      "cell_type": "code",
      "source": [
        "t3[0] = 4\n",
        "# 다음과 같이 튜플에 대한 수정이 불가능합니다."
      ],
      "metadata": {
        "colab": {
          "base_uri": "https://localhost:8080/",
          "height": 164
        },
        "id": "aF1SB60qQJzi",
        "outputId": "4ee46f0d-9749-4aa5-88b5-3eb5c14584ed"
      },
      "execution_count": null,
      "outputs": [
        {
          "output_type": "error",
          "ename": "TypeError",
          "evalue": "'tuple' object does not support item assignment",
          "traceback": [
            "\u001b[0;31m---------------------------------------------------------------------------\u001b[0m",
            "\u001b[0;31mTypeError\u001b[0m                                 Traceback (most recent call last)",
            "\u001b[0;32m<ipython-input-3-d3e6fd19c6a7>\u001b[0m in \u001b[0;36m<cell line: 0>\u001b[0;34m()\u001b[0m\n\u001b[0;32m----> 1\u001b[0;31m \u001b[0mt3\u001b[0m\u001b[0;34m[\u001b[0m\u001b[0;36m0\u001b[0m\u001b[0;34m]\u001b[0m \u001b[0;34m=\u001b[0m \u001b[0;36m4\u001b[0m\u001b[0;34m\u001b[0m\u001b[0;34m\u001b[0m\u001b[0m\n\u001b[0m\u001b[1;32m      2\u001b[0m \u001b[0;31m# 다음과 같이 튜플에 대한 수정이 불가능합니다.\u001b[0m\u001b[0;34m\u001b[0m\u001b[0;34m\u001b[0m\u001b[0m\n",
            "\u001b[0;31mTypeError\u001b[0m: 'tuple' object does not support item assignment"
          ]
        }
      ]
    },
    {
      "cell_type": "code",
      "source": [
        "t3 = 1,2,3,4\n",
        "# 이 경우는 t3를 새로운 값으로써 만드는 작업이기에 위의 수정과는 다른 개념"
      ],
      "metadata": {
        "id": "-EKBUv_uQbEH"
      },
      "execution_count": null,
      "outputs": []
    },
    {
      "cell_type": "code",
      "source": [
        "t4 = t3[:2]\n",
        "print(t4)"
      ],
      "metadata": {
        "colab": {
          "base_uri": "https://localhost:8080/"
        },
        "id": "dvsgRbg6RK64",
        "outputId": "727b6dea-f934-416c-8076-b8ebadd2fd91"
      },
      "execution_count": null,
      "outputs": [
        {
          "output_type": "stream",
          "name": "stdout",
          "text": [
            "(1, 2)\n"
          ]
        }
      ]
    },
    {
      "cell_type": "code",
      "source": [
        "del t3[0] # 불가능 (특정 값에 대한 접근, 수정, 제거 행위)"
      ],
      "metadata": {
        "colab": {
          "base_uri": "https://localhost:8080/",
          "height": 145
        },
        "id": "KErYaxa7QtS4",
        "outputId": "069ac2ba-ecb3-4ff8-9c55-c65de81173f6"
      },
      "execution_count": null,
      "outputs": [
        {
          "output_type": "error",
          "ename": "TypeError",
          "evalue": "'tuple' object doesn't support item deletion",
          "traceback": [
            "\u001b[0;31m---------------------------------------------------------------------------\u001b[0m",
            "\u001b[0;31mTypeError\u001b[0m                                 Traceback (most recent call last)",
            "\u001b[0;32m<ipython-input-7-c8c5825058d7>\u001b[0m in \u001b[0;36m<cell line: 0>\u001b[0;34m()\u001b[0m\n\u001b[0;32m----> 1\u001b[0;31m \u001b[0;32mdel\u001b[0m \u001b[0mt3\u001b[0m\u001b[0;34m[\u001b[0m\u001b[0;36m0\u001b[0m\u001b[0;34m]\u001b[0m \u001b[0;31m# 불가능 (특정 값에 대한 접근, 수정, 제거 행위)\u001b[0m\u001b[0;34m\u001b[0m\u001b[0;34m\u001b[0m\u001b[0m\n\u001b[0m",
            "\u001b[0;31mTypeError\u001b[0m: 'tuple' object doesn't support item deletion"
          ]
        }
      ]
    },
    {
      "cell_type": "code",
      "source": [
        "del t3 # 가능 (전체 데이터 그 자체에 대한 삭제)"
      ],
      "metadata": {
        "id": "aZ5_upnszrJ6"
      },
      "execution_count": null,
      "outputs": []
    },
    {
      "cell_type": "markdown",
      "source": [
        "# 튜플의 사용 목적\n",
        ">> 튜플은 변하지 않는 데이터라는 특징이 있습니다.  \n",
        ">> 따라서 프로그램에서 수정되는 안되는 핵심 데이터에 대한 설계를 진행하기 좋습니다."
      ],
      "metadata": {
        "id": "UWxE8J1WRidn"
      }
    },
    {
      "cell_type": "markdown",
      "source": [
        "# 딕셔너리(dict)\n",
        "\n",
        "e.g.) 이름 = \"김덕배\" 국가 = \"nation\"처럼 대응 관계로 설명할 수 있는 데이터를 표현하는 리스트와 더불어 가장 많이 사용되는 자료형 중 하나입니다.\n",
        "\n",
        "연관 배열(associative array) 또는 해시(hash)라고도 부릅니다.\n",
        "자바 등에서는 Map이라고 부릅니다."
      ],
      "metadata": {
        "id": "uFeaK0BVSIPw"
      }
    },
    {
      "cell_type": "markdown",
      "source": [
        "# 딕셔너리의 특징\n",
        ">> 키(key) - 값(value) 형태로 구성되어있음\n",
        "* 키\n",
        "      값에 접근하기 위한 데이터, 딕셔너리 내부에서 키는 고유한 값을 가집니다.\n",
        "* 값\n",
        "      키를 통해 접근한 데이터, 딕셔너리 내부에서 값은 중복된 값을 가질 수 있습니다.\n",
        "\n",
        ">> 딕셔너리는 리스트나 튜플같은 순차적 데이터(sequential)이 아닙니다. 따라서 인덱스나 슬라이싱을 사용할 수 없습니다.\n"
      ],
      "metadata": {
        "id": "j4ZHjm10TTZw"
      }
    },
    {
      "cell_type": "code",
      "source": [
        "# 딕셔너리 만드는 방법\n",
        "# 딕셔너리명 = {키1 : 값1, 키2 : 값2, ....}\n",
        "\n",
        "dict1 = {'name' : 'Jane','phone' : '010-1234-5678','birth' : 1997}\n",
        "dict2 = {'name' : 'Brown','phone' : '010-6666-6666','birth' : 1997}\n",
        "dict3 = {'name' : 'Terry','phone' : '010-2783-2187','birth' : 1997}\n",
        "dict4 = {'name' : 'Jone','phone' : '010-6798-1231','birth' : 1997}"
      ],
      "metadata": {
        "id": "oLAS5edjRhyH"
      },
      "execution_count": null,
      "outputs": []
    },
    {
      "cell_type": "code",
      "source": [
        "print(dict1['name'])\n",
        "print(dict1['birth'])\n",
        "print(dict1['phone'])\n",
        "print(dict1)"
      ],
      "metadata": {
        "colab": {
          "base_uri": "https://localhost:8080/"
        },
        "id": "bpS6s9vKVPng",
        "outputId": "c3b8affc-2e77-4a60-8afd-c8d9e63824a6"
      },
      "execution_count": null,
      "outputs": [
        {
          "output_type": "stream",
          "name": "stdout",
          "text": [
            "Jane\n",
            "1997\n",
            "010-1234-5678\n",
            "{'name': 'Jane', 'phone': '010-1234-5678', 'birth': 1997}\n"
          ]
        }
      ]
    },
    {
      "cell_type": "code",
      "source": [
        "import tabulate as tb\n",
        "data = [dict1, dict2, dict3, dict4]\n",
        "print(tb.tabulate(data, headers = \"keys\"))\n",
        "# dictionary의 keys를 통해 키의 묶음을 따로 관리"
      ],
      "metadata": {
        "colab": {
          "base_uri": "https://localhost:8080/"
        },
        "id": "onPf22VuVaKI",
        "outputId": "50103080-8dfb-4f52-a9a2-49ad37e24992"
      },
      "execution_count": null,
      "outputs": [
        {
          "output_type": "stream",
          "name": "stdout",
          "text": [
            "name    phone            birth\n",
            "------  -------------  -------\n",
            "Jane    010-1234-5678     1997\n",
            "Brown   010-6666-6666     1997\n",
            "Terry   010-2783-2187     1997\n",
            "Jone    010-6798-1231     1997\n"
          ]
        }
      ]
    }
  ]
}